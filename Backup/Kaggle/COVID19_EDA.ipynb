{
 "cells": [
  {
   "cell_type": "markdown",
   "metadata": {},
   "source": [
    "## Submission \n",
    "For each ForecastId in the test set, you'll predict the cumulative COVID-19 cases and fatalities to date. The file should contain a header and have the following format:<br>\n",
    "\n",
    "ForecastId,ConfirmedCases,Fatalities<br>\n",
    "1,10,0<br>\n",
    "2,10,0<br>\n",
    "3,10,0<br>\n",
    "etc.<br>\n",
    "You will get the ForecastId for the corresponding date and location from the test.csv file."
   ]
  },
  {
   "cell_type": "code",
   "execution_count": 45,
   "metadata": {},
   "outputs": [],
   "source": [
    "import numpy as np \n",
    "import pandas as pd\n",
    "import matplotlib.pyplot as plt\n",
    "import seaborn as sns"
   ]
  },
  {
   "cell_type": "code",
   "execution_count": 367,
   "metadata": {},
   "outputs": [],
   "source": [
    "path_train = 'covid19-global-forecasting-week-1/train.csv'\n",
    "path_test = 'covid19-global-forecasting-week-1/test.csv'\n",
    "path_sbumit = 'covid19-global-forecasting-week-1/submission.csv'\n",
    "\n",
    "df_train = pd.read_csv(path_train)\n",
    "df_test = pd.read_csv(path_test)"
   ]
  },
  {
   "cell_type": "code",
   "execution_count": 7,
   "metadata": {},
   "outputs": [
    {
     "name": "stdout",
     "output_type": "stream",
     "text": [
      "<class 'pandas.core.frame.DataFrame'>\n",
      "RangeIndex: 17324 entries, 0 to 17323\n",
      "Data columns (total 8 columns):\n",
      " #   Column          Non-Null Count  Dtype  \n",
      "---  ------          --------------  -----  \n",
      " 0   Id              17324 non-null  int64  \n",
      " 1   Province/State  7930 non-null   object \n",
      " 2   Country/Region  17324 non-null  object \n",
      " 3   Lat             17324 non-null  float64\n",
      " 4   Long            17324 non-null  float64\n",
      " 5   Date            17324 non-null  object \n",
      " 6   ConfirmedCases  17324 non-null  float64\n",
      " 7   Fatalities      17324 non-null  float64\n",
      "dtypes: float64(4), int64(1), object(3)\n",
      "memory usage: 1.1+ MB\n"
     ]
    }
   ],
   "source": [
    "df_train.info()"
   ]
  },
  {
   "cell_type": "code",
   "execution_count": 44,
   "metadata": {},
   "outputs": [
    {
     "name": "stdout",
     "output_type": "stream",
     "text": [
      "<class 'pandas.core.frame.DataFrame'>\n",
      "RangeIndex: 12212 entries, 0 to 12211\n",
      "Data columns (total 6 columns):\n",
      " #   Column          Non-Null Count  Dtype  \n",
      "---  ------          --------------  -----  \n",
      " 0   ForecastId      12212 non-null  int64  \n",
      " 1   Province/State  5590 non-null   object \n",
      " 2   Country/Region  12212 non-null  object \n",
      " 3   Lat             12212 non-null  float64\n",
      " 4   Long            12212 non-null  float64\n",
      " 5   Date            12212 non-null  object \n",
      "dtypes: float64(2), int64(1), object(3)\n",
      "memory usage: 572.6+ KB\n"
     ]
    }
   ],
   "source": [
    "df_test.info()"
   ]
  },
  {
   "cell_type": "markdown",
   "metadata": {},
   "source": [
    "# About the Data \n",
    "1. Contains Daily Reports of Number of Cases and Fatalities for countries.\n",
    "2. [Missing Data]Contains some entries with Province/State Information.\n",
    "3. Contains latitude and longitude for entries, same for all entries of a country or by province ?\n",
    "4. Date - 22nd Feb to 22nd March\n",
    "5. Country/Region - 163"
   ]
  },
  {
   "cell_type": "markdown",
   "metadata": {},
   "source": [
    "### EDA"
   ]
  },
  {
   "cell_type": "code",
   "execution_count": 186,
   "metadata": {
    "scrolled": true
   },
   "outputs": [
    {
     "data": {
      "text/html": [
       "<div>\n",
       "<style scoped>\n",
       "    .dataframe tbody tr th:only-of-type {\n",
       "        vertical-align: middle;\n",
       "    }\n",
       "\n",
       "    .dataframe tbody tr th {\n",
       "        vertical-align: top;\n",
       "    }\n",
       "\n",
       "    .dataframe thead th {\n",
       "        text-align: right;\n",
       "    }\n",
       "</style>\n",
       "<table border=\"1\" class=\"dataframe\">\n",
       "  <thead>\n",
       "    <tr style=\"text-align: right;\">\n",
       "      <th></th>\n",
       "      <th>Id</th>\n",
       "      <th>Province/State</th>\n",
       "      <th>Country/Region</th>\n",
       "      <th>Lat</th>\n",
       "      <th>Long</th>\n",
       "      <th>Date</th>\n",
       "      <th>ConfirmedCases</th>\n",
       "      <th>Fatalities</th>\n",
       "    </tr>\n",
       "  </thead>\n",
       "  <tbody>\n",
       "    <tr>\n",
       "      <th>5000</th>\n",
       "      <td>7593</td>\n",
       "      <td>NaN</td>\n",
       "      <td>Congo (Brazzaville)</td>\n",
       "      <td>-4.0383</td>\n",
       "      <td>21.7587</td>\n",
       "      <td>2020-03-21</td>\n",
       "      <td>3.0</td>\n",
       "      <td>0.0</td>\n",
       "    </tr>\n",
       "    <tr>\n",
       "      <th>5001</th>\n",
       "      <td>7594</td>\n",
       "      <td>NaN</td>\n",
       "      <td>Congo (Brazzaville)</td>\n",
       "      <td>-4.0383</td>\n",
       "      <td>21.7587</td>\n",
       "      <td>2020-03-22</td>\n",
       "      <td>3.0</td>\n",
       "      <td>0.0</td>\n",
       "    </tr>\n",
       "    <tr>\n",
       "      <th>5002</th>\n",
       "      <td>7627</td>\n",
       "      <td>NaN</td>\n",
       "      <td>Congo (Kinshasa)</td>\n",
       "      <td>-4.0383</td>\n",
       "      <td>21.7587</td>\n",
       "      <td>2020-01-22</td>\n",
       "      <td>0.0</td>\n",
       "      <td>0.0</td>\n",
       "    </tr>\n",
       "    <tr>\n",
       "      <th>5003</th>\n",
       "      <td>7628</td>\n",
       "      <td>NaN</td>\n",
       "      <td>Congo (Kinshasa)</td>\n",
       "      <td>-4.0383</td>\n",
       "      <td>21.7587</td>\n",
       "      <td>2020-01-23</td>\n",
       "      <td>0.0</td>\n",
       "      <td>0.0</td>\n",
       "    </tr>\n",
       "    <tr>\n",
       "      <th>5004</th>\n",
       "      <td>7629</td>\n",
       "      <td>NaN</td>\n",
       "      <td>Congo (Kinshasa)</td>\n",
       "      <td>-4.0383</td>\n",
       "      <td>21.7587</td>\n",
       "      <td>2020-01-24</td>\n",
       "      <td>0.0</td>\n",
       "      <td>0.0</td>\n",
       "    </tr>\n",
       "    <tr>\n",
       "      <th>5005</th>\n",
       "      <td>7630</td>\n",
       "      <td>NaN</td>\n",
       "      <td>Congo (Kinshasa)</td>\n",
       "      <td>-4.0383</td>\n",
       "      <td>21.7587</td>\n",
       "      <td>2020-01-25</td>\n",
       "      <td>0.0</td>\n",
       "      <td>0.0</td>\n",
       "    </tr>\n",
       "    <tr>\n",
       "      <th>5006</th>\n",
       "      <td>7631</td>\n",
       "      <td>NaN</td>\n",
       "      <td>Congo (Kinshasa)</td>\n",
       "      <td>-4.0383</td>\n",
       "      <td>21.7587</td>\n",
       "      <td>2020-01-26</td>\n",
       "      <td>0.0</td>\n",
       "      <td>0.0</td>\n",
       "    </tr>\n",
       "    <tr>\n",
       "      <th>5007</th>\n",
       "      <td>7632</td>\n",
       "      <td>NaN</td>\n",
       "      <td>Congo (Kinshasa)</td>\n",
       "      <td>-4.0383</td>\n",
       "      <td>21.7587</td>\n",
       "      <td>2020-01-27</td>\n",
       "      <td>0.0</td>\n",
       "      <td>0.0</td>\n",
       "    </tr>\n",
       "    <tr>\n",
       "      <th>5008</th>\n",
       "      <td>7633</td>\n",
       "      <td>NaN</td>\n",
       "      <td>Congo (Kinshasa)</td>\n",
       "      <td>-4.0383</td>\n",
       "      <td>21.7587</td>\n",
       "      <td>2020-01-28</td>\n",
       "      <td>0.0</td>\n",
       "      <td>0.0</td>\n",
       "    </tr>\n",
       "    <tr>\n",
       "      <th>5009</th>\n",
       "      <td>7634</td>\n",
       "      <td>NaN</td>\n",
       "      <td>Congo (Kinshasa)</td>\n",
       "      <td>-4.0383</td>\n",
       "      <td>21.7587</td>\n",
       "      <td>2020-01-29</td>\n",
       "      <td>0.0</td>\n",
       "      <td>0.0</td>\n",
       "    </tr>\n",
       "    <tr>\n",
       "      <th>5010</th>\n",
       "      <td>7635</td>\n",
       "      <td>NaN</td>\n",
       "      <td>Congo (Kinshasa)</td>\n",
       "      <td>-4.0383</td>\n",
       "      <td>21.7587</td>\n",
       "      <td>2020-01-30</td>\n",
       "      <td>0.0</td>\n",
       "      <td>0.0</td>\n",
       "    </tr>\n",
       "    <tr>\n",
       "      <th>5011</th>\n",
       "      <td>7636</td>\n",
       "      <td>NaN</td>\n",
       "      <td>Congo (Kinshasa)</td>\n",
       "      <td>-4.0383</td>\n",
       "      <td>21.7587</td>\n",
       "      <td>2020-01-31</td>\n",
       "      <td>0.0</td>\n",
       "      <td>0.0</td>\n",
       "    </tr>\n",
       "    <tr>\n",
       "      <th>5012</th>\n",
       "      <td>7637</td>\n",
       "      <td>NaN</td>\n",
       "      <td>Congo (Kinshasa)</td>\n",
       "      <td>-4.0383</td>\n",
       "      <td>21.7587</td>\n",
       "      <td>2020-02-01</td>\n",
       "      <td>0.0</td>\n",
       "      <td>0.0</td>\n",
       "    </tr>\n",
       "    <tr>\n",
       "      <th>5013</th>\n",
       "      <td>7638</td>\n",
       "      <td>NaN</td>\n",
       "      <td>Congo (Kinshasa)</td>\n",
       "      <td>-4.0383</td>\n",
       "      <td>21.7587</td>\n",
       "      <td>2020-02-02</td>\n",
       "      <td>0.0</td>\n",
       "      <td>0.0</td>\n",
       "    </tr>\n",
       "    <tr>\n",
       "      <th>5014</th>\n",
       "      <td>7639</td>\n",
       "      <td>NaN</td>\n",
       "      <td>Congo (Kinshasa)</td>\n",
       "      <td>-4.0383</td>\n",
       "      <td>21.7587</td>\n",
       "      <td>2020-02-03</td>\n",
       "      <td>0.0</td>\n",
       "      <td>0.0</td>\n",
       "    </tr>\n",
       "    <tr>\n",
       "      <th>5015</th>\n",
       "      <td>7640</td>\n",
       "      <td>NaN</td>\n",
       "      <td>Congo (Kinshasa)</td>\n",
       "      <td>-4.0383</td>\n",
       "      <td>21.7587</td>\n",
       "      <td>2020-02-04</td>\n",
       "      <td>0.0</td>\n",
       "      <td>0.0</td>\n",
       "    </tr>\n",
       "    <tr>\n",
       "      <th>5016</th>\n",
       "      <td>7641</td>\n",
       "      <td>NaN</td>\n",
       "      <td>Congo (Kinshasa)</td>\n",
       "      <td>-4.0383</td>\n",
       "      <td>21.7587</td>\n",
       "      <td>2020-02-05</td>\n",
       "      <td>0.0</td>\n",
       "      <td>0.0</td>\n",
       "    </tr>\n",
       "    <tr>\n",
       "      <th>5017</th>\n",
       "      <td>7642</td>\n",
       "      <td>NaN</td>\n",
       "      <td>Congo (Kinshasa)</td>\n",
       "      <td>-4.0383</td>\n",
       "      <td>21.7587</td>\n",
       "      <td>2020-02-06</td>\n",
       "      <td>0.0</td>\n",
       "      <td>0.0</td>\n",
       "    </tr>\n",
       "    <tr>\n",
       "      <th>5018</th>\n",
       "      <td>7643</td>\n",
       "      <td>NaN</td>\n",
       "      <td>Congo (Kinshasa)</td>\n",
       "      <td>-4.0383</td>\n",
       "      <td>21.7587</td>\n",
       "      <td>2020-02-07</td>\n",
       "      <td>0.0</td>\n",
       "      <td>0.0</td>\n",
       "    </tr>\n",
       "    <tr>\n",
       "      <th>5019</th>\n",
       "      <td>7644</td>\n",
       "      <td>NaN</td>\n",
       "      <td>Congo (Kinshasa)</td>\n",
       "      <td>-4.0383</td>\n",
       "      <td>21.7587</td>\n",
       "      <td>2020-02-08</td>\n",
       "      <td>0.0</td>\n",
       "      <td>0.0</td>\n",
       "    </tr>\n",
       "    <tr>\n",
       "      <th>5020</th>\n",
       "      <td>7645</td>\n",
       "      <td>NaN</td>\n",
       "      <td>Congo (Kinshasa)</td>\n",
       "      <td>-4.0383</td>\n",
       "      <td>21.7587</td>\n",
       "      <td>2020-02-09</td>\n",
       "      <td>0.0</td>\n",
       "      <td>0.0</td>\n",
       "    </tr>\n",
       "    <tr>\n",
       "      <th>5021</th>\n",
       "      <td>7646</td>\n",
       "      <td>NaN</td>\n",
       "      <td>Congo (Kinshasa)</td>\n",
       "      <td>-4.0383</td>\n",
       "      <td>21.7587</td>\n",
       "      <td>2020-02-10</td>\n",
       "      <td>0.0</td>\n",
       "      <td>0.0</td>\n",
       "    </tr>\n",
       "    <tr>\n",
       "      <th>5022</th>\n",
       "      <td>7647</td>\n",
       "      <td>NaN</td>\n",
       "      <td>Congo (Kinshasa)</td>\n",
       "      <td>-4.0383</td>\n",
       "      <td>21.7587</td>\n",
       "      <td>2020-02-11</td>\n",
       "      <td>0.0</td>\n",
       "      <td>0.0</td>\n",
       "    </tr>\n",
       "    <tr>\n",
       "      <th>5023</th>\n",
       "      <td>7648</td>\n",
       "      <td>NaN</td>\n",
       "      <td>Congo (Kinshasa)</td>\n",
       "      <td>-4.0383</td>\n",
       "      <td>21.7587</td>\n",
       "      <td>2020-02-12</td>\n",
       "      <td>0.0</td>\n",
       "      <td>0.0</td>\n",
       "    </tr>\n",
       "    <tr>\n",
       "      <th>5024</th>\n",
       "      <td>7649</td>\n",
       "      <td>NaN</td>\n",
       "      <td>Congo (Kinshasa)</td>\n",
       "      <td>-4.0383</td>\n",
       "      <td>21.7587</td>\n",
       "      <td>2020-02-13</td>\n",
       "      <td>0.0</td>\n",
       "      <td>0.0</td>\n",
       "    </tr>\n",
       "    <tr>\n",
       "      <th>5025</th>\n",
       "      <td>7650</td>\n",
       "      <td>NaN</td>\n",
       "      <td>Congo (Kinshasa)</td>\n",
       "      <td>-4.0383</td>\n",
       "      <td>21.7587</td>\n",
       "      <td>2020-02-14</td>\n",
       "      <td>0.0</td>\n",
       "      <td>0.0</td>\n",
       "    </tr>\n",
       "    <tr>\n",
       "      <th>5026</th>\n",
       "      <td>7651</td>\n",
       "      <td>NaN</td>\n",
       "      <td>Congo (Kinshasa)</td>\n",
       "      <td>-4.0383</td>\n",
       "      <td>21.7587</td>\n",
       "      <td>2020-02-15</td>\n",
       "      <td>0.0</td>\n",
       "      <td>0.0</td>\n",
       "    </tr>\n",
       "    <tr>\n",
       "      <th>5027</th>\n",
       "      <td>7652</td>\n",
       "      <td>NaN</td>\n",
       "      <td>Congo (Kinshasa)</td>\n",
       "      <td>-4.0383</td>\n",
       "      <td>21.7587</td>\n",
       "      <td>2020-02-16</td>\n",
       "      <td>0.0</td>\n",
       "      <td>0.0</td>\n",
       "    </tr>\n",
       "    <tr>\n",
       "      <th>5028</th>\n",
       "      <td>7653</td>\n",
       "      <td>NaN</td>\n",
       "      <td>Congo (Kinshasa)</td>\n",
       "      <td>-4.0383</td>\n",
       "      <td>21.7587</td>\n",
       "      <td>2020-02-17</td>\n",
       "      <td>0.0</td>\n",
       "      <td>0.0</td>\n",
       "    </tr>\n",
       "    <tr>\n",
       "      <th>5029</th>\n",
       "      <td>7654</td>\n",
       "      <td>NaN</td>\n",
       "      <td>Congo (Kinshasa)</td>\n",
       "      <td>-4.0383</td>\n",
       "      <td>21.7587</td>\n",
       "      <td>2020-02-18</td>\n",
       "      <td>0.0</td>\n",
       "      <td>0.0</td>\n",
       "    </tr>\n",
       "    <tr>\n",
       "      <th>5030</th>\n",
       "      <td>7655</td>\n",
       "      <td>NaN</td>\n",
       "      <td>Congo (Kinshasa)</td>\n",
       "      <td>-4.0383</td>\n",
       "      <td>21.7587</td>\n",
       "      <td>2020-02-19</td>\n",
       "      <td>0.0</td>\n",
       "      <td>0.0</td>\n",
       "    </tr>\n",
       "    <tr>\n",
       "      <th>5031</th>\n",
       "      <td>7656</td>\n",
       "      <td>NaN</td>\n",
       "      <td>Congo (Kinshasa)</td>\n",
       "      <td>-4.0383</td>\n",
       "      <td>21.7587</td>\n",
       "      <td>2020-02-20</td>\n",
       "      <td>0.0</td>\n",
       "      <td>0.0</td>\n",
       "    </tr>\n",
       "    <tr>\n",
       "      <th>5032</th>\n",
       "      <td>7657</td>\n",
       "      <td>NaN</td>\n",
       "      <td>Congo (Kinshasa)</td>\n",
       "      <td>-4.0383</td>\n",
       "      <td>21.7587</td>\n",
       "      <td>2020-02-21</td>\n",
       "      <td>0.0</td>\n",
       "      <td>0.0</td>\n",
       "    </tr>\n",
       "    <tr>\n",
       "      <th>5033</th>\n",
       "      <td>7658</td>\n",
       "      <td>NaN</td>\n",
       "      <td>Congo (Kinshasa)</td>\n",
       "      <td>-4.0383</td>\n",
       "      <td>21.7587</td>\n",
       "      <td>2020-02-22</td>\n",
       "      <td>0.0</td>\n",
       "      <td>0.0</td>\n",
       "    </tr>\n",
       "    <tr>\n",
       "      <th>5034</th>\n",
       "      <td>7659</td>\n",
       "      <td>NaN</td>\n",
       "      <td>Congo (Kinshasa)</td>\n",
       "      <td>-4.0383</td>\n",
       "      <td>21.7587</td>\n",
       "      <td>2020-02-23</td>\n",
       "      <td>0.0</td>\n",
       "      <td>0.0</td>\n",
       "    </tr>\n",
       "    <tr>\n",
       "      <th>5035</th>\n",
       "      <td>7660</td>\n",
       "      <td>NaN</td>\n",
       "      <td>Congo (Kinshasa)</td>\n",
       "      <td>-4.0383</td>\n",
       "      <td>21.7587</td>\n",
       "      <td>2020-02-24</td>\n",
       "      <td>0.0</td>\n",
       "      <td>0.0</td>\n",
       "    </tr>\n",
       "    <tr>\n",
       "      <th>5036</th>\n",
       "      <td>7661</td>\n",
       "      <td>NaN</td>\n",
       "      <td>Congo (Kinshasa)</td>\n",
       "      <td>-4.0383</td>\n",
       "      <td>21.7587</td>\n",
       "      <td>2020-02-25</td>\n",
       "      <td>0.0</td>\n",
       "      <td>0.0</td>\n",
       "    </tr>\n",
       "    <tr>\n",
       "      <th>5037</th>\n",
       "      <td>7662</td>\n",
       "      <td>NaN</td>\n",
       "      <td>Congo (Kinshasa)</td>\n",
       "      <td>-4.0383</td>\n",
       "      <td>21.7587</td>\n",
       "      <td>2020-02-26</td>\n",
       "      <td>0.0</td>\n",
       "      <td>0.0</td>\n",
       "    </tr>\n",
       "    <tr>\n",
       "      <th>5038</th>\n",
       "      <td>7663</td>\n",
       "      <td>NaN</td>\n",
       "      <td>Congo (Kinshasa)</td>\n",
       "      <td>-4.0383</td>\n",
       "      <td>21.7587</td>\n",
       "      <td>2020-02-27</td>\n",
       "      <td>0.0</td>\n",
       "      <td>0.0</td>\n",
       "    </tr>\n",
       "    <tr>\n",
       "      <th>5039</th>\n",
       "      <td>7664</td>\n",
       "      <td>NaN</td>\n",
       "      <td>Congo (Kinshasa)</td>\n",
       "      <td>-4.0383</td>\n",
       "      <td>21.7587</td>\n",
       "      <td>2020-02-28</td>\n",
       "      <td>0.0</td>\n",
       "      <td>0.0</td>\n",
       "    </tr>\n",
       "    <tr>\n",
       "      <th>5040</th>\n",
       "      <td>7665</td>\n",
       "      <td>NaN</td>\n",
       "      <td>Congo (Kinshasa)</td>\n",
       "      <td>-4.0383</td>\n",
       "      <td>21.7587</td>\n",
       "      <td>2020-02-29</td>\n",
       "      <td>0.0</td>\n",
       "      <td>0.0</td>\n",
       "    </tr>\n",
       "    <tr>\n",
       "      <th>5041</th>\n",
       "      <td>7666</td>\n",
       "      <td>NaN</td>\n",
       "      <td>Congo (Kinshasa)</td>\n",
       "      <td>-4.0383</td>\n",
       "      <td>21.7587</td>\n",
       "      <td>2020-03-01</td>\n",
       "      <td>0.0</td>\n",
       "      <td>0.0</td>\n",
       "    </tr>\n",
       "    <tr>\n",
       "      <th>5042</th>\n",
       "      <td>7667</td>\n",
       "      <td>NaN</td>\n",
       "      <td>Congo (Kinshasa)</td>\n",
       "      <td>-4.0383</td>\n",
       "      <td>21.7587</td>\n",
       "      <td>2020-03-02</td>\n",
       "      <td>0.0</td>\n",
       "      <td>0.0</td>\n",
       "    </tr>\n",
       "    <tr>\n",
       "      <th>5043</th>\n",
       "      <td>7668</td>\n",
       "      <td>NaN</td>\n",
       "      <td>Congo (Kinshasa)</td>\n",
       "      <td>-4.0383</td>\n",
       "      <td>21.7587</td>\n",
       "      <td>2020-03-03</td>\n",
       "      <td>0.0</td>\n",
       "      <td>0.0</td>\n",
       "    </tr>\n",
       "    <tr>\n",
       "      <th>5044</th>\n",
       "      <td>7669</td>\n",
       "      <td>NaN</td>\n",
       "      <td>Congo (Kinshasa)</td>\n",
       "      <td>-4.0383</td>\n",
       "      <td>21.7587</td>\n",
       "      <td>2020-03-04</td>\n",
       "      <td>0.0</td>\n",
       "      <td>0.0</td>\n",
       "    </tr>\n",
       "    <tr>\n",
       "      <th>5045</th>\n",
       "      <td>7670</td>\n",
       "      <td>NaN</td>\n",
       "      <td>Congo (Kinshasa)</td>\n",
       "      <td>-4.0383</td>\n",
       "      <td>21.7587</td>\n",
       "      <td>2020-03-05</td>\n",
       "      <td>0.0</td>\n",
       "      <td>0.0</td>\n",
       "    </tr>\n",
       "    <tr>\n",
       "      <th>5046</th>\n",
       "      <td>7671</td>\n",
       "      <td>NaN</td>\n",
       "      <td>Congo (Kinshasa)</td>\n",
       "      <td>-4.0383</td>\n",
       "      <td>21.7587</td>\n",
       "      <td>2020-03-06</td>\n",
       "      <td>0.0</td>\n",
       "      <td>0.0</td>\n",
       "    </tr>\n",
       "    <tr>\n",
       "      <th>5047</th>\n",
       "      <td>7672</td>\n",
       "      <td>NaN</td>\n",
       "      <td>Congo (Kinshasa)</td>\n",
       "      <td>-4.0383</td>\n",
       "      <td>21.7587</td>\n",
       "      <td>2020-03-07</td>\n",
       "      <td>0.0</td>\n",
       "      <td>0.0</td>\n",
       "    </tr>\n",
       "    <tr>\n",
       "      <th>5048</th>\n",
       "      <td>7673</td>\n",
       "      <td>NaN</td>\n",
       "      <td>Congo (Kinshasa)</td>\n",
       "      <td>-4.0383</td>\n",
       "      <td>21.7587</td>\n",
       "      <td>2020-03-08</td>\n",
       "      <td>0.0</td>\n",
       "      <td>0.0</td>\n",
       "    </tr>\n",
       "    <tr>\n",
       "      <th>5049</th>\n",
       "      <td>7674</td>\n",
       "      <td>NaN</td>\n",
       "      <td>Congo (Kinshasa)</td>\n",
       "      <td>-4.0383</td>\n",
       "      <td>21.7587</td>\n",
       "      <td>2020-03-09</td>\n",
       "      <td>0.0</td>\n",
       "      <td>0.0</td>\n",
       "    </tr>\n",
       "  </tbody>\n",
       "</table>\n",
       "</div>"
      ],
      "text/plain": [
       "        Id Province/State       Country/Region     Lat     Long        Date  \\\n",
       "5000  7593            NaN  Congo (Brazzaville) -4.0383  21.7587  2020-03-21   \n",
       "5001  7594            NaN  Congo (Brazzaville) -4.0383  21.7587  2020-03-22   \n",
       "5002  7627            NaN     Congo (Kinshasa) -4.0383  21.7587  2020-01-22   \n",
       "5003  7628            NaN     Congo (Kinshasa) -4.0383  21.7587  2020-01-23   \n",
       "5004  7629            NaN     Congo (Kinshasa) -4.0383  21.7587  2020-01-24   \n",
       "5005  7630            NaN     Congo (Kinshasa) -4.0383  21.7587  2020-01-25   \n",
       "5006  7631            NaN     Congo (Kinshasa) -4.0383  21.7587  2020-01-26   \n",
       "5007  7632            NaN     Congo (Kinshasa) -4.0383  21.7587  2020-01-27   \n",
       "5008  7633            NaN     Congo (Kinshasa) -4.0383  21.7587  2020-01-28   \n",
       "5009  7634            NaN     Congo (Kinshasa) -4.0383  21.7587  2020-01-29   \n",
       "5010  7635            NaN     Congo (Kinshasa) -4.0383  21.7587  2020-01-30   \n",
       "5011  7636            NaN     Congo (Kinshasa) -4.0383  21.7587  2020-01-31   \n",
       "5012  7637            NaN     Congo (Kinshasa) -4.0383  21.7587  2020-02-01   \n",
       "5013  7638            NaN     Congo (Kinshasa) -4.0383  21.7587  2020-02-02   \n",
       "5014  7639            NaN     Congo (Kinshasa) -4.0383  21.7587  2020-02-03   \n",
       "5015  7640            NaN     Congo (Kinshasa) -4.0383  21.7587  2020-02-04   \n",
       "5016  7641            NaN     Congo (Kinshasa) -4.0383  21.7587  2020-02-05   \n",
       "5017  7642            NaN     Congo (Kinshasa) -4.0383  21.7587  2020-02-06   \n",
       "5018  7643            NaN     Congo (Kinshasa) -4.0383  21.7587  2020-02-07   \n",
       "5019  7644            NaN     Congo (Kinshasa) -4.0383  21.7587  2020-02-08   \n",
       "5020  7645            NaN     Congo (Kinshasa) -4.0383  21.7587  2020-02-09   \n",
       "5021  7646            NaN     Congo (Kinshasa) -4.0383  21.7587  2020-02-10   \n",
       "5022  7647            NaN     Congo (Kinshasa) -4.0383  21.7587  2020-02-11   \n",
       "5023  7648            NaN     Congo (Kinshasa) -4.0383  21.7587  2020-02-12   \n",
       "5024  7649            NaN     Congo (Kinshasa) -4.0383  21.7587  2020-02-13   \n",
       "5025  7650            NaN     Congo (Kinshasa) -4.0383  21.7587  2020-02-14   \n",
       "5026  7651            NaN     Congo (Kinshasa) -4.0383  21.7587  2020-02-15   \n",
       "5027  7652            NaN     Congo (Kinshasa) -4.0383  21.7587  2020-02-16   \n",
       "5028  7653            NaN     Congo (Kinshasa) -4.0383  21.7587  2020-02-17   \n",
       "5029  7654            NaN     Congo (Kinshasa) -4.0383  21.7587  2020-02-18   \n",
       "5030  7655            NaN     Congo (Kinshasa) -4.0383  21.7587  2020-02-19   \n",
       "5031  7656            NaN     Congo (Kinshasa) -4.0383  21.7587  2020-02-20   \n",
       "5032  7657            NaN     Congo (Kinshasa) -4.0383  21.7587  2020-02-21   \n",
       "5033  7658            NaN     Congo (Kinshasa) -4.0383  21.7587  2020-02-22   \n",
       "5034  7659            NaN     Congo (Kinshasa) -4.0383  21.7587  2020-02-23   \n",
       "5035  7660            NaN     Congo (Kinshasa) -4.0383  21.7587  2020-02-24   \n",
       "5036  7661            NaN     Congo (Kinshasa) -4.0383  21.7587  2020-02-25   \n",
       "5037  7662            NaN     Congo (Kinshasa) -4.0383  21.7587  2020-02-26   \n",
       "5038  7663            NaN     Congo (Kinshasa) -4.0383  21.7587  2020-02-27   \n",
       "5039  7664            NaN     Congo (Kinshasa) -4.0383  21.7587  2020-02-28   \n",
       "5040  7665            NaN     Congo (Kinshasa) -4.0383  21.7587  2020-02-29   \n",
       "5041  7666            NaN     Congo (Kinshasa) -4.0383  21.7587  2020-03-01   \n",
       "5042  7667            NaN     Congo (Kinshasa) -4.0383  21.7587  2020-03-02   \n",
       "5043  7668            NaN     Congo (Kinshasa) -4.0383  21.7587  2020-03-03   \n",
       "5044  7669            NaN     Congo (Kinshasa) -4.0383  21.7587  2020-03-04   \n",
       "5045  7670            NaN     Congo (Kinshasa) -4.0383  21.7587  2020-03-05   \n",
       "5046  7671            NaN     Congo (Kinshasa) -4.0383  21.7587  2020-03-06   \n",
       "5047  7672            NaN     Congo (Kinshasa) -4.0383  21.7587  2020-03-07   \n",
       "5048  7673            NaN     Congo (Kinshasa) -4.0383  21.7587  2020-03-08   \n",
       "5049  7674            NaN     Congo (Kinshasa) -4.0383  21.7587  2020-03-09   \n",
       "\n",
       "      ConfirmedCases  Fatalities  \n",
       "5000             3.0         0.0  \n",
       "5001             3.0         0.0  \n",
       "5002             0.0         0.0  \n",
       "5003             0.0         0.0  \n",
       "5004             0.0         0.0  \n",
       "5005             0.0         0.0  \n",
       "5006             0.0         0.0  \n",
       "5007             0.0         0.0  \n",
       "5008             0.0         0.0  \n",
       "5009             0.0         0.0  \n",
       "5010             0.0         0.0  \n",
       "5011             0.0         0.0  \n",
       "5012             0.0         0.0  \n",
       "5013             0.0         0.0  \n",
       "5014             0.0         0.0  \n",
       "5015             0.0         0.0  \n",
       "5016             0.0         0.0  \n",
       "5017             0.0         0.0  \n",
       "5018             0.0         0.0  \n",
       "5019             0.0         0.0  \n",
       "5020             0.0         0.0  \n",
       "5021             0.0         0.0  \n",
       "5022             0.0         0.0  \n",
       "5023             0.0         0.0  \n",
       "5024             0.0         0.0  \n",
       "5025             0.0         0.0  \n",
       "5026             0.0         0.0  \n",
       "5027             0.0         0.0  \n",
       "5028             0.0         0.0  \n",
       "5029             0.0         0.0  \n",
       "5030             0.0         0.0  \n",
       "5031             0.0         0.0  \n",
       "5032             0.0         0.0  \n",
       "5033             0.0         0.0  \n",
       "5034             0.0         0.0  \n",
       "5035             0.0         0.0  \n",
       "5036             0.0         0.0  \n",
       "5037             0.0         0.0  \n",
       "5038             0.0         0.0  \n",
       "5039             0.0         0.0  \n",
       "5040             0.0         0.0  \n",
       "5041             0.0         0.0  \n",
       "5042             0.0         0.0  \n",
       "5043             0.0         0.0  \n",
       "5044             0.0         0.0  \n",
       "5045             0.0         0.0  \n",
       "5046             0.0         0.0  \n",
       "5047             0.0         0.0  \n",
       "5048             0.0         0.0  \n",
       "5049             0.0         0.0  "
      ]
     },
     "execution_count": 186,
     "metadata": {},
     "output_type": "execute_result"
    }
   ],
   "source": [
    "#df_train.iloc[5000:5050]"
   ]
  },
  {
   "cell_type": "code",
   "execution_count": 56,
   "metadata": {},
   "outputs": [
    {
     "name": "stdout",
     "output_type": "stream",
     "text": [
      "Train shape (17324, 8)\n",
      "Test shape (12212, 6)\n",
      "\n",
      "Train Missing\n",
      " Id                   0\n",
      "Province/State    9394\n",
      "Country/Region       0\n",
      "Lat                  0\n",
      "Long                 0\n",
      "Date                 0\n",
      "ConfirmedCases       0\n",
      "Fatalities           0\n",
      "dtype: int64\n",
      "\n",
      "Test Missing\n",
      " ForecastId           0\n",
      "Province/State    6622\n",
      "Country/Region       0\n",
      "Lat                  0\n",
      "Long                 0\n",
      "Date                 0\n",
      "dtype: int64\n"
     ]
    }
   ],
   "source": [
    "# Dataset Dimesnions\n",
    "\n",
    "print('Train shape', df_train.shape)\n",
    "\n",
    "print('Test shape', df_test.shape)\n",
    "\n",
    "# Missing/Null Values\n",
    "\n",
    "print('\\nTrain Missing\\n', df_train.isnull().sum())\n",
    "print('\\nTest Missing\\n', df_test.isnull().sum())"
   ]
  },
  {
   "cell_type": "code",
   "execution_count": 58,
   "metadata": {},
   "outputs": [
    {
     "name": "stdout",
     "output_type": "stream",
     "text": [
      "Index(['Id', 'Province/State', 'Country/Region', 'Lat', 'Long', 'Date',\n",
      "       'ConfirmedCases', 'Fatalities'],\n",
      "      dtype='object')\n",
      "Index(['ForecastId', 'Province/State', 'Country/Region', 'Lat', 'Long',\n",
      "       'Date'],\n",
      "      dtype='object')\n"
     ]
    }
   ],
   "source": [
    "print(df_train.columns)\n",
    "print(df_test.columns)"
   ]
  },
  {
   "cell_type": "code",
   "execution_count": 63,
   "metadata": {
    "scrolled": true
   },
   "outputs": [
    {
     "name": "stdout",
     "output_type": "stream",
     "text": [
      "Total_Countries\n",
      ": 163\n",
      "Afghanistan\n",
      "Albania\n",
      "Algeria\n",
      "Andorra\n",
      "Antigua and Barbuda\n",
      "Argentina\n",
      "Armenia\n",
      "Aruba\n",
      "Australia\n",
      "Austria\n",
      "Azerbaijan\n",
      "Bahrain\n",
      "Bangladesh\n",
      "Barbados\n",
      "Belarus\n",
      "Belgium\n",
      "Benin\n",
      "Bhutan\n",
      "Bolivia\n",
      "Bosnia and Herzegovina\n",
      "Brazil\n",
      "Brunei\n",
      "Bulgaria\n",
      "Burkina Faso\n",
      "Cambodia\n",
      "Cameroon\n",
      "Canada\n",
      "Central African Republic\n",
      "Chile\n",
      "China\n",
      "Colombia\n",
      "Congo (Brazzaville)\n",
      "Congo (Kinshasa)\n",
      "Costa Rica\n",
      "Cote d'Ivoire\n",
      "Croatia\n",
      "Cruise Ship\n",
      "Cuba\n",
      "Cyprus\n",
      "Czechia\n",
      "Denmark\n",
      "Djibouti\n",
      "Dominican Republic\n",
      "Ecuador\n",
      "Egypt\n",
      "Equatorial Guinea\n",
      "Estonia\n",
      "Eswatini\n",
      "Ethiopia\n",
      "Finland\n",
      "France\n",
      "French Guiana\n",
      "Gabon\n",
      "Gambia, The\n",
      "Georgia\n",
      "Germany\n",
      "Ghana\n",
      "Greece\n",
      "Greenland\n",
      "Guadeloupe\n",
      "Guam\n",
      "Guatemala\n",
      "Guernsey\n",
      "Guinea\n",
      "Guyana\n",
      "Holy See\n",
      "Honduras\n",
      "Hungary\n",
      "Iceland\n",
      "India\n",
      "Indonesia\n",
      "Iran\n",
      "Iraq\n",
      "Ireland\n",
      "Israel\n",
      "Italy\n",
      "Jamaica\n",
      "Japan\n",
      "Jersey\n",
      "Jordan\n",
      "Kazakhstan\n",
      "Kenya\n",
      "Korea, South\n",
      "Kosovo\n",
      "Kuwait\n",
      "Kyrgyzstan\n",
      "Latvia\n",
      "Lebanon\n",
      "Liberia\n",
      "Liechtenstein\n",
      "Lithuania\n",
      "Luxembourg\n",
      "Malaysia\n",
      "Maldives\n",
      "Malta\n",
      "Martinique\n",
      "Mauritania\n",
      "Mauritius\n",
      "Mayotte\n",
      "Mexico\n",
      "Moldova\n",
      "Monaco\n",
      "Mongolia\n",
      "Montenegro\n",
      "Morocco\n",
      "Namibia\n",
      "Nepal\n",
      "Netherlands\n",
      "New Zealand\n",
      "Nigeria\n",
      "North Macedonia\n",
      "Norway\n",
      "Oman\n",
      "Pakistan\n",
      "Panama\n",
      "Paraguay\n",
      "Peru\n",
      "Philippines\n",
      "Poland\n",
      "Portugal\n",
      "Puerto Rico\n",
      "Qatar\n",
      "Republic of the Congo\n",
      "Reunion\n",
      "Romania\n",
      "Russia\n",
      "Rwanda\n",
      "Saint Lucia\n",
      "Saint Vincent and the Grenadines\n",
      "San Marino\n",
      "Saudi Arabia\n",
      "Senegal\n",
      "Serbia\n",
      "Seychelles\n",
      "Singapore\n",
      "Slovakia\n",
      "Slovenia\n",
      "Somalia\n",
      "South Africa\n",
      "Spain\n",
      "Sri Lanka\n",
      "Sudan\n",
      "Suriname\n",
      "Sweden\n",
      "Switzerland\n",
      "Taiwan*\n",
      "Tanzania\n",
      "Thailand\n",
      "The Bahamas\n",
      "The Gambia\n",
      "Togo\n",
      "Trinidad and Tobago\n",
      "Tunisia\n",
      "Turkey\n",
      "US\n",
      "Ukraine\n",
      "United Arab Emirates\n",
      "United Kingdom\n",
      "Uruguay\n",
      "Uzbekistan\n",
      "Venezuela\n",
      "Vietnam\n",
      "Zambia\n"
     ]
    }
   ],
   "source": [
    "# Lets get an idea of the unique countries in the dataset \n",
    "\n",
    "lst = df_train['Country/Region'].unique()\n",
    "print('Total_Countries\\n:', len(lst))\n",
    "for i in lst:\n",
    "    print(i)"
   ]
  },
  {
   "cell_type": "code",
   "execution_count": 67,
   "metadata": {},
   "outputs": [
    {
     "name": "stdout",
     "output_type": "stream",
     "text": [
      "2020-01-22  -  2020-03-22\n"
     ]
    },
    {
     "data": {
      "text/plain": [
       "0        2020-01-22\n",
       "1        2020-01-23\n",
       "2        2020-01-24\n",
       "3        2020-01-25\n",
       "4        2020-01-26\n",
       "            ...    \n",
       "17319    2020-03-18\n",
       "17320    2020-03-19\n",
       "17321    2020-03-20\n",
       "17322    2020-03-21\n",
       "17323    2020-03-22\n",
       "Name: Date, Length: 17324, dtype: object"
      ]
     },
     "execution_count": 67,
     "metadata": {},
     "output_type": "execute_result"
    }
   ],
   "source": [
    "# Lets get the Date Range for the Dataset \n",
    "\n",
    "print(df_train['Date'].min(), ' - ', df_train['Date'].max())\n",
    "df_train['Date']"
   ]
  },
  {
   "cell_type": "markdown",
   "metadata": {},
   "source": [
    "### Checking Confirmed Cases and Fatalities for the World by each Date- Using GroupBy"
   ]
  },
  {
   "cell_type": "code",
   "execution_count": 89,
   "metadata": {},
   "outputs": [
    {
     "data": {
      "text/plain": [
       "Date\n",
       "2020-01-22       539.0\n",
       "2020-01-23       627.0\n",
       "2020-01-24       901.0\n",
       "2020-01-25      1347.0\n",
       "2020-01-26      1959.0\n",
       "                ...   \n",
       "2020-03-18    212054.0\n",
       "2020-03-19    239571.0\n",
       "2020-03-20    268834.0\n",
       "2020-03-21    300983.0\n",
       "2020-03-22    332193.0\n",
       "Name: ConfirmedCases, Length: 61, dtype: float64"
      ]
     },
     "execution_count": 89,
     "metadata": {},
     "output_type": "execute_result"
    }
   ],
   "source": [
    "# GroupBy syntax (columns to group by in list)[Columns to aggregate, apply function to] . aggregation functions on it \n",
    "train_cases_conf = df_train.groupby(['Date'])['ConfirmedCases'].sum()\n",
    "train_cases_conf"
   ]
  },
  {
   "cell_type": "code",
   "execution_count": 88,
   "metadata": {},
   "outputs": [
    {
     "data": {
      "text/plain": [
       "Date\n",
       "2020-01-22       17.0\n",
       "2020-01-23       18.0\n",
       "2020-01-24       25.0\n",
       "2020-01-25       41.0\n",
       "2020-01-26       53.0\n",
       "               ...   \n",
       "2020-03-18     8691.0\n",
       "2020-03-19     9824.0\n",
       "2020-03-20    11256.0\n",
       "2020-03-21    12928.0\n",
       "2020-03-22    14588.0\n",
       "Name: Fatalities, Length: 61, dtype: float64"
      ]
     },
     "execution_count": 88,
     "metadata": {},
     "output_type": "execute_result"
    }
   ],
   "source": [
    "train_fatal = df_train.groupby(['Date'])['Fatalities'].sum()\n",
    "train_fatal"
   ]
  },
  {
   "cell_type": "code",
   "execution_count": 105,
   "metadata": {},
   "outputs": [
    {
     "data": {
      "text/plain": [
       "<matplotlib.axes._subplots.AxesSubplot at 0x1248c6f60>"
      ]
     },
     "execution_count": 105,
     "metadata": {},
     "output_type": "execute_result"
    },
    {
     "data": {
      "image/png": "[encoded data removed]",
      "text/plain": [
       "<Figure size 720x576 with 1 Axes>"
      ]
     },
     "metadata": {
      "needs_background": "light"
     },
     "output_type": "display_data"
    }
   ],
   "source": [
    "train_cases_conf.plot(figsize = (10,8), title = 'Worldwide Confirmed Cases')"
   ]
  },
  {
   "cell_type": "code",
   "execution_count": 106,
   "metadata": {},
   "outputs": [
    {
     "data": {
      "text/plain": [
       "<matplotlib.axes._subplots.AxesSubplot at 0x124aad940>"
      ]
     },
     "execution_count": 106,
     "metadata": {},
     "output_type": "execute_result"
    },
    {
     "data": {
      "image/png": "[encoded data removed]",
      "text/plain": [
       "<Figure size 720x576 with 1 Axes>"
      ]
     },
     "metadata": {
      "needs_background": "light"
     },
     "output_type": "display_data"
    }
   ],
   "source": [
    "train_fatal.plot(figsize = (10,8), title = 'Worldwide Fatalaties')"
   ]
  },
  {
   "cell_type": "code",
   "execution_count": 103,
   "metadata": {},
   "outputs": [
    {
     "data": {
      "text/plain": [
       "Date\n",
       "2020-01-22      533.0\n",
       "2020-01-23      618.0\n",
       "2020-01-24      882.0\n",
       "2020-01-25     1321.0\n",
       "2020-01-26     1921.0\n",
       "               ...   \n",
       "2020-03-18    78810.0\n",
       "2020-03-19    78861.0\n",
       "2020-03-20    78946.0\n",
       "2020-03-21    78992.0\n",
       "2020-03-22    79070.0\n",
       "Name: ConfirmedCases, Length: 61, dtype: float64"
      ]
     },
     "execution_count": 103,
     "metadata": {},
     "output_type": "execute_result"
    }
   ],
   "source": [
    "# Checking Confirmed cases and fatalities for China\n",
    "\n",
    "# Filtering out China\n",
    "china_filt = df_train['Country/Region'] == 'China'\n",
    "# 2013 Entries for China, Province Data is Also Present\n",
    "# use loc to filter and then grouping \n",
    "\n",
    "train_conf_china = df_train.loc[china_filt].groupby(['Date'])['ConfirmedCases'].sum()\n",
    "train_conf_china"
   ]
  },
  {
   "cell_type": "code",
   "execution_count": 146,
   "metadata": {},
   "outputs": [
    {
     "data": {
      "text/plain": [
       "<matplotlib.axes._subplots.AxesSubplot at 0x125478550>"
      ]
     },
     "execution_count": 146,
     "metadata": {},
     "output_type": "execute_result"
    },
    {
     "data": {
      "image/png": "[encoded data removed]",
      "text/plain": [
       "<Figure size 720x576 with 1 Axes>"
      ]
     },
     "metadata": {
      "needs_background": "light"
     },
     "output_type": "display_data"
    }
   ],
   "source": [
    "train_conf_china.plot(figsize = (10,8), title = 'China Confirmed Cases')"
   ]
  },
  {
   "cell_type": "code",
   "execution_count": 163,
   "metadata": {},
   "outputs": [
    {
     "data": {
      "text/plain": [
       "<matplotlib.legend.Legend at 0x12b2d67b8>"
      ]
     },
     "execution_count": 163,
     "metadata": {},
     "output_type": "execute_result"
    },
    {
     "data": {
      "image/png": "[encoded data removed]",
      "text/plain": [
       "<Figure size 864x720 with 1 Axes>"
      ]
     },
     "metadata": {
      "needs_background": "light"
     },
     "output_type": "display_data"
    }
   ],
   "source": [
    "# grouping using same china filter to get fatalities on each date (grouped by date)\n",
    "# groupby([list of columns to groupby]) [which columns to apply aggregate fx to ]. (aggregate function)\n",
    "\n",
    "\n",
    "train_china_fatal = df_train.loc[china_filt].groupby(['Date'])['Fatalities'].sum()\n",
    "\n",
    "#train_china_fatal.plot(figsize= (10,8) , title = 'China Total Fatalaties')\n",
    "\n",
    "plt.figure(figsize=(12,10))\n",
    "plt.axes(yscale ='log', )\n",
    "plt.plot(train_china_fatal.index, train_china_fatal.tolist(), 'r', label = 'Fatalities')\n",
    "plt.plot(train_conf_china.index, train_conf_china.tolist(), 'b', label = 'Total Confirmed Cases')\n",
    "plt.title('China COVID Cases and Fatalities')\n",
    "plt.legend()"
   ]
  },
  {
   "cell_type": "code",
   "execution_count": 180,
   "metadata": {},
   "outputs": [
    {
     "data": {
      "text/html": [
       "<div>\n",
       "<style scoped>\n",
       "    .dataframe tbody tr th:only-of-type {\n",
       "        vertical-align: middle;\n",
       "    }\n",
       "\n",
       "    .dataframe tbody tr th {\n",
       "        vertical-align: top;\n",
       "    }\n",
       "\n",
       "    .dataframe thead th {\n",
       "        text-align: right;\n",
       "    }\n",
       "</style>\n",
       "<table border=\"1\" class=\"dataframe\">\n",
       "  <thead>\n",
       "    <tr style=\"text-align: right;\">\n",
       "      <th></th>\n",
       "      <th>Country/Region</th>\n",
       "      <th>ConfirmedCases</th>\n",
       "    </tr>\n",
       "  </thead>\n",
       "  <tbody>\n",
       "    <tr>\n",
       "      <th>29</th>\n",
       "      <td>China</td>\n",
       "      <td>3342060.0</td>\n",
       "    </tr>\n",
       "    <tr>\n",
       "      <th>75</th>\n",
       "      <td>Italy</td>\n",
       "      <td>438821.0</td>\n",
       "    </tr>\n",
       "    <tr>\n",
       "      <th>71</th>\n",
       "      <td>Iran</td>\n",
       "      <td>231132.0</td>\n",
       "    </tr>\n",
       "    <tr>\n",
       "      <th>82</th>\n",
       "      <td>Korea, South</td>\n",
       "      <td>172802.0</td>\n",
       "    </tr>\n",
       "    <tr>\n",
       "      <th>139</th>\n",
       "      <td>Spain</td>\n",
       "      <td>157432.0</td>\n",
       "    </tr>\n",
       "    <tr>\n",
       "      <th>...</th>\n",
       "      <td>...</td>\n",
       "      <td>...</td>\n",
       "    </tr>\n",
       "    <tr>\n",
       "      <th>149</th>\n",
       "      <td>The Gambia</td>\n",
       "      <td>0.0</td>\n",
       "    </tr>\n",
       "    <tr>\n",
       "      <th>148</th>\n",
       "      <td>The Bahamas</td>\n",
       "      <td>0.0</td>\n",
       "    </tr>\n",
       "    <tr>\n",
       "      <th>7</th>\n",
       "      <td>Aruba</td>\n",
       "      <td>0.0</td>\n",
       "    </tr>\n",
       "    <tr>\n",
       "      <th>122</th>\n",
       "      <td>Republic of the Congo</td>\n",
       "      <td>0.0</td>\n",
       "    </tr>\n",
       "    <tr>\n",
       "      <th>120</th>\n",
       "      <td>Puerto Rico</td>\n",
       "      <td>0.0</td>\n",
       "    </tr>\n",
       "  </tbody>\n",
       "</table>\n",
       "<p>163 rows × 2 columns</p>\n",
       "</div>"
      ],
      "text/plain": [
       "            Country/Region  ConfirmedCases\n",
       "29                   China       3342060.0\n",
       "75                   Italy        438821.0\n",
       "71                    Iran        231132.0\n",
       "82            Korea, South        172802.0\n",
       "139                  Spain        157432.0\n",
       "..                     ...             ...\n",
       "149             The Gambia             0.0\n",
       "148            The Bahamas             0.0\n",
       "7                    Aruba             0.0\n",
       "122  Republic of the Congo             0.0\n",
       "120            Puerto Rico             0.0\n",
       "\n",
       "[163 rows x 2 columns]"
      ]
     },
     "execution_count": 180,
     "metadata": {},
     "output_type": "execute_result"
    }
   ],
   "source": [
    "# Checking Total Cases by Country \n",
    "\n",
    "# as_index = False to not make the grouping column the index, creates a df her instead of series, preserves\n",
    "# Confirmedcases column\n",
    "\n",
    "train_case_country = df_train.groupby(['Country/Region'], as_index=False)['ConfirmedCases'].sum()\n",
    "\n",
    "# Sorting by number of cases\n",
    "train_case_country.sort_values('ConfirmedCases', ascending=False, inplace = True)\n",
    "train_case_country"
   ]
  },
  {
   "cell_type": "code",
   "execution_count": 184,
   "metadata": {},
   "outputs": [
    {
     "data": {
      "text/plain": [
       "<BarContainer object of 5 artists>"
      ]
     },
     "execution_count": 184,
     "metadata": {},
     "output_type": "execute_result"
    },
    {
     "data": {
      "image/png": "[encoded data removed]",
      "text/plain": [
       "<Figure size 576x432 with 1 Axes>"
      ]
     },
     "metadata": {
      "needs_background": "light"
     },
     "output_type": "display_data"
    }
   ],
   "source": [
    "# Plotting bargraph for 5 most affected countries\n",
    "\n",
    "plt.figure(figsize=(8,6))\n",
    "plt.bar(train_case_country['Country/Region'][:5], train_case_country['ConfirmedCases'][:5], color = ['red', 'yellow','black','blue','green'])"
   ]
  },
  {
   "cell_type": "markdown",
   "metadata": {},
   "source": [
    "#### No. of Cases on a Particular Day, (Not Increase, Cumulative)"
   ]
  },
  {
   "cell_type": "code",
   "execution_count": 274,
   "metadata": {},
   "outputs": [
    {
     "data": {
      "text/plain": [
       "<seaborn.axisgrid.FacetGrid at 0x131725b38>"
      ]
     },
     "execution_count": 274,
     "metadata": {},
     "output_type": "execute_result"
    },
    {
     "data": {
      "image/png": "[encoded data removed]",
      "text/plain": [
       "<Figure size 1080x360 with 1 Axes>"
      ]
     },
     "metadata": {},
     "output_type": "display_data"
    }
   ],
   "source": [
    "# Confirmed Cases till a particular day by country\n",
    "\n",
    "Date = '2020-03-10'\n",
    "\n",
    "train_case_country_march = df_train.groupby(['Country/Region', 'Date'], as_index=False)['ConfirmedCases'].sum()\n",
    "\n",
    "# Filter for data for 23/03\n",
    "\n",
    "df_23_3 = df_train['Date'] == Date\n",
    "\n",
    "# Sort Values\n",
    "# train_case_country.sort_values('ConfirmedCases', ascending=False, inplace = True)\n",
    "\n",
    "train_case_country_march = train_case_country_march.loc[df_23_3]\n",
    "\n",
    "train_case_country_march.sort_values('ConfirmedCases', ascending = False, inplace = True)\n",
    "\n",
    "sns.catplot(x = 'Country/Region', y = 'ConfirmedCases' , data = train_case_country_march.head(10), height=5,aspect=3, kind = 'bar')"
   ]
  },
  {
   "cell_type": "markdown",
   "metadata": {},
   "source": [
    "# Data Wrangling/ Pre-processing/ Cleaning \n",
    "Process of converting or mapping data from original raw form into another format, preparing it for further analysis.\n",
    "1. Identifying and Handling missing values.\n",
    "2. Data Formating.\n",
    "3. Data Normalization(centering and scaling).\n",
    "4. Data bining.\n",
    "5. Turning categorical values into numerical values."
   ]
  },
  {
   "cell_type": "code",
   "execution_count": 193,
   "metadata": {},
   "outputs": [
    {
     "name": "stdout",
     "output_type": "stream",
     "text": [
      "<class 'pandas.core.frame.DataFrame'>\n",
      "RangeIndex: 17324 entries, 0 to 17323\n",
      "Data columns (total 8 columns):\n",
      " #   Column          Non-Null Count  Dtype  \n",
      "---  ------          --------------  -----  \n",
      " 0   Id              17324 non-null  int64  \n",
      " 1   Province/State  7930 non-null   object \n",
      " 2   Country/Region  17324 non-null  object \n",
      " 3   Lat             17324 non-null  float64\n",
      " 4   Long            17324 non-null  float64\n",
      " 5   Date            17324 non-null  object \n",
      " 6   ConfirmedCases  17324 non-null  float64\n",
      " 7   Fatalities      17324 non-null  float64\n",
      "dtypes: float64(4), int64(1), object(3)\n",
      "memory usage: 1.1+ MB\n"
     ]
    }
   ],
   "source": [
    "# Dropping ID and getting rid of Province/State with NULL values \n",
    "df_train.info()"
   ]
  },
  {
   "cell_type": "code",
   "execution_count": 194,
   "metadata": {},
   "outputs": [
    {
     "name": "stderr",
     "output_type": "stream",
     "text": [
      "/Library/Frameworks/Python.framework/Versions/3.6/lib/python3.6/site-packages/ipykernel_launcher.py:4: FutureWarning: Indexing with multiple keys (implicitly converted to a tuple of keys) will be deprecated, use a list instead.\n",
      "  after removing the cwd from sys.path.\n"
     ]
    }
   ],
   "source": [
    "# lets get Cumulative sum of ConfirmedCases and Fatalities for each country on each data (same as original data)\n",
    "# Doing to create copy without ID and \n",
    "\n",
    "train_country_date = df_train.groupby(['Country/Region', 'Date', 'Lat', 'Long'], as_index=False)['ConfirmedCases', 'Fatalities'].sum()"
   ]
  },
  {
   "cell_type": "code",
   "execution_count": 200,
   "metadata": {},
   "outputs": [
    {
     "name": "stdout",
     "output_type": "stream",
     "text": [
      "<class 'pandas.core.frame.DataFrame'>\n",
      "Int64Index: 17324 entries, 0 to 17323\n",
      "Data columns (total 6 columns):\n",
      " #   Column          Non-Null Count  Dtype  \n",
      "---  ------          --------------  -----  \n",
      " 0   Country/Region  17324 non-null  object \n",
      " 1   Date            17324 non-null  object \n",
      " 2   Lat             17324 non-null  float64\n",
      " 3   Long            17324 non-null  float64\n",
      " 4   ConfirmedCases  17324 non-null  float64\n",
      " 5   Fatalities      17324 non-null  float64\n",
      "dtypes: float64(4), object(2)\n",
      "memory usage: 947.4+ KB\n",
      "None\n",
      "Country/Region    0\n",
      "Date              0\n",
      "Lat               0\n",
      "Long              0\n",
      "ConfirmedCases    0\n",
      "Fatalities        0\n",
      "dtype: int64\n"
     ]
    }
   ],
   "source": [
    "print(train_country_date.info())\n",
    "print(train_country_date.isnull().sum())"
   ]
  },
  {
   "cell_type": "markdown",
   "metadata": {},
   "source": [
    "### Feature Engineering\n",
    "Splitting Date into day, month, day of week. <br>\n",
    "First convert object to python datetime type <br>\n",
    "Using pd.to_datetime()"
   ]
  },
  {
   "cell_type": "code",
   "execution_count": 202,
   "metadata": {},
   "outputs": [
    {
     "name": "stdout",
     "output_type": "stream",
     "text": [
      "<class 'pandas.core.frame.DataFrame'>\n",
      "Int64Index: 17324 entries, 0 to 17323\n",
      "Data columns (total 6 columns):\n",
      " #   Column          Non-Null Count  Dtype         \n",
      "---  ------          --------------  -----         \n",
      " 0   Country/Region  17324 non-null  object        \n",
      " 1   Date            17324 non-null  datetime64[ns]\n",
      " 2   Lat             17324 non-null  float64       \n",
      " 3   Long            17324 non-null  float64       \n",
      " 4   ConfirmedCases  17324 non-null  float64       \n",
      " 5   Fatalities      17324 non-null  float64       \n",
      "dtypes: datetime64[ns](1), float64(4), object(1)\n",
      "memory usage: 947.4+ KB\n"
     ]
    }
   ],
   "source": [
    "train_country_date.Date = pd.to_datetime(train_country_date['Date'])\n",
    "train_country_date.info()"
   ]
  },
  {
   "cell_type": "markdown",
   "metadata": {},
   "source": [
    "#### Using Pandas Series.dt.month\n",
    "The month as January=1, December=12."
   ]
  },
  {
   "cell_type": "code",
   "execution_count": 207,
   "metadata": {},
   "outputs": [],
   "source": [
    "# Adding day, month, day of week columns \n",
    "\n",
    "train_country_date['Month'] = train_country_date['Date'].dt.month\n",
    "train_country_date['Day'] = train_country_date['Date'].dt.day\n",
    "train_country_date['Day_Week'] = train_country_date['Date'].dt.dayofweek"
   ]
  },
  {
   "cell_type": "code",
   "execution_count": 208,
   "metadata": {},
   "outputs": [
    {
     "data": {
      "text/html": [
       "<div>\n",
       "<style scoped>\n",
       "    .dataframe tbody tr th:only-of-type {\n",
       "        vertical-align: middle;\n",
       "    }\n",
       "\n",
       "    .dataframe tbody tr th {\n",
       "        vertical-align: top;\n",
       "    }\n",
       "\n",
       "    .dataframe thead th {\n",
       "        text-align: right;\n",
       "    }\n",
       "</style>\n",
       "<table border=\"1\" class=\"dataframe\">\n",
       "  <thead>\n",
       "    <tr style=\"text-align: right;\">\n",
       "      <th></th>\n",
       "      <th>Country/Region</th>\n",
       "      <th>Date</th>\n",
       "      <th>Lat</th>\n",
       "      <th>Long</th>\n",
       "      <th>ConfirmedCases</th>\n",
       "      <th>Fatalities</th>\n",
       "      <th>Month</th>\n",
       "      <th>Day</th>\n",
       "      <th>Day_Week</th>\n",
       "    </tr>\n",
       "  </thead>\n",
       "  <tbody>\n",
       "    <tr>\n",
       "      <th>0</th>\n",
       "      <td>Afghanistan</td>\n",
       "      <td>2020-01-22</td>\n",
       "      <td>33.0</td>\n",
       "      <td>65.0</td>\n",
       "      <td>0.0</td>\n",
       "      <td>0.0</td>\n",
       "      <td>1</td>\n",
       "      <td>22</td>\n",
       "      <td>2</td>\n",
       "    </tr>\n",
       "    <tr>\n",
       "      <th>1</th>\n",
       "      <td>Afghanistan</td>\n",
       "      <td>2020-01-23</td>\n",
       "      <td>33.0</td>\n",
       "      <td>65.0</td>\n",
       "      <td>0.0</td>\n",
       "      <td>0.0</td>\n",
       "      <td>1</td>\n",
       "      <td>23</td>\n",
       "      <td>3</td>\n",
       "    </tr>\n",
       "    <tr>\n",
       "      <th>2</th>\n",
       "      <td>Afghanistan</td>\n",
       "      <td>2020-01-24</td>\n",
       "      <td>33.0</td>\n",
       "      <td>65.0</td>\n",
       "      <td>0.0</td>\n",
       "      <td>0.0</td>\n",
       "      <td>1</td>\n",
       "      <td>24</td>\n",
       "      <td>4</td>\n",
       "    </tr>\n",
       "    <tr>\n",
       "      <th>3</th>\n",
       "      <td>Afghanistan</td>\n",
       "      <td>2020-01-25</td>\n",
       "      <td>33.0</td>\n",
       "      <td>65.0</td>\n",
       "      <td>0.0</td>\n",
       "      <td>0.0</td>\n",
       "      <td>1</td>\n",
       "      <td>25</td>\n",
       "      <td>5</td>\n",
       "    </tr>\n",
       "    <tr>\n",
       "      <th>4</th>\n",
       "      <td>Afghanistan</td>\n",
       "      <td>2020-01-26</td>\n",
       "      <td>33.0</td>\n",
       "      <td>65.0</td>\n",
       "      <td>0.0</td>\n",
       "      <td>0.0</td>\n",
       "      <td>1</td>\n",
       "      <td>26</td>\n",
       "      <td>6</td>\n",
       "    </tr>\n",
       "  </tbody>\n",
       "</table>\n",
       "</div>"
      ],
      "text/plain": [
       "  Country/Region       Date   Lat  Long  ConfirmedCases  Fatalities  Month  \\\n",
       "0    Afghanistan 2020-01-22  33.0  65.0             0.0         0.0      1   \n",
       "1    Afghanistan 2020-01-23  33.0  65.0             0.0         0.0      1   \n",
       "2    Afghanistan 2020-01-24  33.0  65.0             0.0         0.0      1   \n",
       "3    Afghanistan 2020-01-25  33.0  65.0             0.0         0.0      1   \n",
       "4    Afghanistan 2020-01-26  33.0  65.0             0.0         0.0      1   \n",
       "\n",
       "   Day  Day_Week  \n",
       "0   22         2  \n",
       "1   23         3  \n",
       "2   24         4  \n",
       "3   25         5  \n",
       "4   26         6  "
      ]
     },
     "execution_count": 208,
     "metadata": {},
     "output_type": "execute_result"
    }
   ],
   "source": [
    "train_country_date.head()"
   ]
  },
  {
   "cell_type": "code",
   "execution_count": 231,
   "metadata": {},
   "outputs": [
    {
     "name": "stdout",
     "output_type": "stream",
     "text": [
      "<class 'pandas.core.frame.DataFrame'>\n",
      "Int64Index: 17324 entries, 0 to 17323\n",
      "Data columns (total 9 columns):\n",
      " #   Column          Non-Null Count  Dtype         \n",
      "---  ------          --------------  -----         \n",
      " 0   Country/Region  17324 non-null  object        \n",
      " 1   Date            17324 non-null  datetime64[ns]\n",
      " 2   Lat             17324 non-null  float64       \n",
      " 3   Long            17324 non-null  float64       \n",
      " 4   ConfirmedCases  17324 non-null  float64       \n",
      " 5   Fatalities      17324 non-null  float64       \n",
      " 6   Month           17324 non-null  int64         \n",
      " 7   Day             17324 non-null  int64         \n",
      " 8   Day_Week        17324 non-null  int64         \n",
      "dtypes: datetime64[ns](1), float64(4), int64(3), object(1)\n",
      "memory usage: 1.3+ MB\n"
     ]
    }
   ],
   "source": [
    "train_country_date.info()"
   ]
  },
  {
   "cell_type": "markdown",
   "metadata": {},
   "source": [
    "#### Same Feature Engineering for Test Set"
   ]
  },
  {
   "cell_type": "code",
   "execution_count": 223,
   "metadata": {},
   "outputs": [
    {
     "data": {
      "text/html": [
       "<div>\n",
       "<style scoped>\n",
       "    .dataframe tbody tr th:only-of-type {\n",
       "        vertical-align: middle;\n",
       "    }\n",
       "\n",
       "    .dataframe tbody tr th {\n",
       "        vertical-align: top;\n",
       "    }\n",
       "\n",
       "    .dataframe thead th {\n",
       "        text-align: right;\n",
       "    }\n",
       "</style>\n",
       "<table border=\"1\" class=\"dataframe\">\n",
       "  <thead>\n",
       "    <tr style=\"text-align: right;\">\n",
       "      <th></th>\n",
       "      <th>ForecastId</th>\n",
       "      <th>Country/Region</th>\n",
       "      <th>Lat</th>\n",
       "      <th>Long</th>\n",
       "      <th>Date</th>\n",
       "    </tr>\n",
       "  </thead>\n",
       "  <tbody>\n",
       "    <tr>\n",
       "      <th>0</th>\n",
       "      <td>1</td>\n",
       "      <td>Afghanistan</td>\n",
       "      <td>33.0</td>\n",
       "      <td>65.0</td>\n",
       "      <td>2020-03-12</td>\n",
       "    </tr>\n",
       "    <tr>\n",
       "      <th>1</th>\n",
       "      <td>2</td>\n",
       "      <td>Afghanistan</td>\n",
       "      <td>33.0</td>\n",
       "      <td>65.0</td>\n",
       "      <td>2020-03-13</td>\n",
       "    </tr>\n",
       "  </tbody>\n",
       "</table>\n",
       "</div>"
      ],
      "text/plain": [
       "   ForecastId Country/Region   Lat  Long       Date\n",
       "0           1    Afghanistan  33.0  65.0 2020-03-12\n",
       "1           2    Afghanistan  33.0  65.0 2020-03-13"
      ]
     },
     "execution_count": 223,
     "metadata": {},
     "output_type": "execute_result"
    }
   ],
   "source": [
    "# First drop Province/State\n",
    "#df_test.drop('Province/State', axis = 1, inplace = True)\n",
    "\n",
    "# Converting Date Object to Datetime type\n",
    "\n",
    "df_test.Date = pd.to_datetime(df_test['Date'])\n",
    "df_test.head(2)"
   ]
  },
  {
   "cell_type": "code",
   "execution_count": 228,
   "metadata": {},
   "outputs": [],
   "source": [
    "# adding Month, DAy, Day_week columns Using Pandas Series.dt.month\n",
    "\n",
    "df_test['Month'] = df_test['Date'].dt.month\n",
    "df_test['Day'] = df_test['Date'].dt.day\n",
    "df_test['Day_Week'] = df_test['Date'].dt.dayofweek"
   ]
  },
  {
   "cell_type": "code",
   "execution_count": 230,
   "metadata": {},
   "outputs": [
    {
     "name": "stdout",
     "output_type": "stream",
     "text": [
      "<class 'pandas.core.frame.DataFrame'>\n",
      "RangeIndex: 12212 entries, 0 to 12211\n",
      "Data columns (total 8 columns):\n",
      " #   Column          Non-Null Count  Dtype         \n",
      "---  ------          --------------  -----         \n",
      " 0   ForecastId      12212 non-null  int64         \n",
      " 1   Country/Region  12212 non-null  object        \n",
      " 2   Lat             12212 non-null  float64       \n",
      " 3   Long            12212 non-null  float64       \n",
      " 4   Date            12212 non-null  datetime64[ns]\n",
      " 5   Month           12212 non-null  int64         \n",
      " 6   Day             12212 non-null  int64         \n",
      " 7   Day_Week        12212 non-null  int64         \n",
      "dtypes: datetime64[ns](1), float64(2), int64(4), object(1)\n",
      "memory usage: 763.4+ KB\n"
     ]
    }
   ],
   "source": [
    "df_test.info()"
   ]
  },
  {
   "cell_type": "markdown",
   "metadata": {},
   "source": [
    "#### Councatenating Train-Test to Label encode Country/Region Categorical Variable.\n",
    "1. Make copy of train data without Confirmed Cases and Fatalities. Index - 0 to 17323\n",
    "2. Concatenate train, test.\n",
    "3. Label Encode Countries.\n",
    "4. Add back Cofirmed Cases, Fatalities columns to clean_train_data.\n",
    "5. Modelling\n",
    "6. Saving Predicted Values with ForecastID"
   ]
  },
  {
   "cell_type": "code",
   "execution_count": 282,
   "metadata": {},
   "outputs": [],
   "source": [
    "# train_country_date\n",
    "# df_test\n",
    "# Lets select the Common Labels and concatenate.\n",
    "\n",
    "labels = ['Country/Region', 'Lat', 'Long', 'Date', 'Month', 'Day', 'Day_Week']\n",
    "\n",
    "df_train_clean = train_country_date[labels]\n",
    "df_test_clean = df_test[labels]\n",
    "\n",
    "data_clean = pd.concat([df_train_clean, df_test_clean], axis = 0)"
   ]
  },
  {
   "cell_type": "code",
   "execution_count": 286,
   "metadata": {},
   "outputs": [
    {
     "name": "stdout",
     "output_type": "stream",
     "text": [
      "<class 'pandas.core.frame.DataFrame'>\n",
      "Int64Index: 29536 entries, 0 to 12211\n",
      "Data columns (total 7 columns):\n",
      " #   Column          Non-Null Count  Dtype         \n",
      "---  ------          --------------  -----         \n",
      " 0   Country/Region  29536 non-null  object        \n",
      " 1   Lat             29536 non-null  float64       \n",
      " 2   Long            29536 non-null  float64       \n",
      " 3   Date            29536 non-null  datetime64[ns]\n",
      " 4   Month           29536 non-null  int64         \n",
      " 5   Day             29536 non-null  int64         \n",
      " 6   Day_Week        29536 non-null  int64         \n",
      "dtypes: datetime64[ns](1), float64(2), int64(3), object(1)\n",
      "memory usage: 1.8+ MB\n"
     ]
    }
   ],
   "source": [
    "data_clean.info()"
   ]
  },
  {
   "cell_type": "markdown",
   "metadata": {},
   "source": [
    "## Modeling - Regression Problem \n",
    "Using features Country/Region, Lat, Long, Month, Day, Day_week.<br>\n",
    "To predict ConfirmedCases, Fatalities.\n",
    "### To predict 2 Different Target Variables, Train two classifiers, one for each ?"
   ]
  },
  {
   "cell_type": "markdown",
   "metadata": {},
   "source": [
    "## Preparing Data For Models"
   ]
  },
  {
   "cell_type": "code",
   "execution_count": 319,
   "metadata": {},
   "outputs": [],
   "source": [
    "from sklearn.preprocessing import LabelEncoder"
   ]
  },
  {
   "cell_type": "code",
   "execution_count": 291,
   "metadata": {},
   "outputs": [
    {
     "data": {
      "text/html": [
       "<div>\n",
       "<style scoped>\n",
       "    .dataframe tbody tr th:only-of-type {\n",
       "        vertical-align: middle;\n",
       "    }\n",
       "\n",
       "    .dataframe tbody tr th {\n",
       "        vertical-align: top;\n",
       "    }\n",
       "\n",
       "    .dataframe thead th {\n",
       "        text-align: right;\n",
       "    }\n",
       "</style>\n",
       "<table border=\"1\" class=\"dataframe\">\n",
       "  <thead>\n",
       "    <tr style=\"text-align: right;\">\n",
       "      <th></th>\n",
       "      <th>Country/Region</th>\n",
       "      <th>Lat</th>\n",
       "      <th>Long</th>\n",
       "      <th>Date</th>\n",
       "      <th>Month</th>\n",
       "      <th>Day</th>\n",
       "      <th>Day_Week</th>\n",
       "      <th>Country</th>\n",
       "    </tr>\n",
       "  </thead>\n",
       "  <tbody>\n",
       "    <tr>\n",
       "      <th>0</th>\n",
       "      <td>Afghanistan</td>\n",
       "      <td>33.0000</td>\n",
       "      <td>65.0000</td>\n",
       "      <td>2020-01-22</td>\n",
       "      <td>1</td>\n",
       "      <td>22</td>\n",
       "      <td>2</td>\n",
       "      <td>0</td>\n",
       "    </tr>\n",
       "    <tr>\n",
       "      <th>1</th>\n",
       "      <td>Afghanistan</td>\n",
       "      <td>33.0000</td>\n",
       "      <td>65.0000</td>\n",
       "      <td>2020-01-23</td>\n",
       "      <td>1</td>\n",
       "      <td>23</td>\n",
       "      <td>3</td>\n",
       "      <td>0</td>\n",
       "    </tr>\n",
       "    <tr>\n",
       "      <th>2</th>\n",
       "      <td>Afghanistan</td>\n",
       "      <td>33.0000</td>\n",
       "      <td>65.0000</td>\n",
       "      <td>2020-01-24</td>\n",
       "      <td>1</td>\n",
       "      <td>24</td>\n",
       "      <td>4</td>\n",
       "      <td>0</td>\n",
       "    </tr>\n",
       "    <tr>\n",
       "      <th>3</th>\n",
       "      <td>Afghanistan</td>\n",
       "      <td>33.0000</td>\n",
       "      <td>65.0000</td>\n",
       "      <td>2020-01-25</td>\n",
       "      <td>1</td>\n",
       "      <td>25</td>\n",
       "      <td>5</td>\n",
       "      <td>0</td>\n",
       "    </tr>\n",
       "    <tr>\n",
       "      <th>4</th>\n",
       "      <td>Afghanistan</td>\n",
       "      <td>33.0000</td>\n",
       "      <td>65.0000</td>\n",
       "      <td>2020-01-26</td>\n",
       "      <td>1</td>\n",
       "      <td>26</td>\n",
       "      <td>6</td>\n",
       "      <td>0</td>\n",
       "    </tr>\n",
       "    <tr>\n",
       "      <th>...</th>\n",
       "      <td>...</td>\n",
       "      <td>...</td>\n",
       "      <td>...</td>\n",
       "      <td>...</td>\n",
       "      <td>...</td>\n",
       "      <td>...</td>\n",
       "      <td>...</td>\n",
       "      <td>...</td>\n",
       "    </tr>\n",
       "    <tr>\n",
       "      <th>12207</th>\n",
       "      <td>Zambia</td>\n",
       "      <td>-15.4167</td>\n",
       "      <td>28.2833</td>\n",
       "      <td>2020-04-19</td>\n",
       "      <td>4</td>\n",
       "      <td>19</td>\n",
       "      <td>6</td>\n",
       "      <td>162</td>\n",
       "    </tr>\n",
       "    <tr>\n",
       "      <th>12208</th>\n",
       "      <td>Zambia</td>\n",
       "      <td>-15.4167</td>\n",
       "      <td>28.2833</td>\n",
       "      <td>2020-04-20</td>\n",
       "      <td>4</td>\n",
       "      <td>20</td>\n",
       "      <td>0</td>\n",
       "      <td>162</td>\n",
       "    </tr>\n",
       "    <tr>\n",
       "      <th>12209</th>\n",
       "      <td>Zambia</td>\n",
       "      <td>-15.4167</td>\n",
       "      <td>28.2833</td>\n",
       "      <td>2020-04-21</td>\n",
       "      <td>4</td>\n",
       "      <td>21</td>\n",
       "      <td>1</td>\n",
       "      <td>162</td>\n",
       "    </tr>\n",
       "    <tr>\n",
       "      <th>12210</th>\n",
       "      <td>Zambia</td>\n",
       "      <td>-15.4167</td>\n",
       "      <td>28.2833</td>\n",
       "      <td>2020-04-22</td>\n",
       "      <td>4</td>\n",
       "      <td>22</td>\n",
       "      <td>2</td>\n",
       "      <td>162</td>\n",
       "    </tr>\n",
       "    <tr>\n",
       "      <th>12211</th>\n",
       "      <td>Zambia</td>\n",
       "      <td>-15.4167</td>\n",
       "      <td>28.2833</td>\n",
       "      <td>2020-04-23</td>\n",
       "      <td>4</td>\n",
       "      <td>23</td>\n",
       "      <td>3</td>\n",
       "      <td>162</td>\n",
       "    </tr>\n",
       "  </tbody>\n",
       "</table>\n",
       "<p>29536 rows × 8 columns</p>\n",
       "</div>"
      ],
      "text/plain": [
       "      Country/Region      Lat     Long       Date  Month  Day  Day_Week  \\\n",
       "0        Afghanistan  33.0000  65.0000 2020-01-22      1   22         2   \n",
       "1        Afghanistan  33.0000  65.0000 2020-01-23      1   23         3   \n",
       "2        Afghanistan  33.0000  65.0000 2020-01-24      1   24         4   \n",
       "3        Afghanistan  33.0000  65.0000 2020-01-25      1   25         5   \n",
       "4        Afghanistan  33.0000  65.0000 2020-01-26      1   26         6   \n",
       "...              ...      ...      ...        ...    ...  ...       ...   \n",
       "12207         Zambia -15.4167  28.2833 2020-04-19      4   19         6   \n",
       "12208         Zambia -15.4167  28.2833 2020-04-20      4   20         0   \n",
       "12209         Zambia -15.4167  28.2833 2020-04-21      4   21         1   \n",
       "12210         Zambia -15.4167  28.2833 2020-04-22      4   22         2   \n",
       "12211         Zambia -15.4167  28.2833 2020-04-23      4   23         3   \n",
       "\n",
       "       Country  \n",
       "0            0  \n",
       "1            0  \n",
       "2            0  \n",
       "3            0  \n",
       "4            0  \n",
       "...        ...  \n",
       "12207      162  \n",
       "12208      162  \n",
       "12209      162  \n",
       "12210      162  \n",
       "12211      162  \n",
       "\n",
       "[29536 rows x 8 columns]"
      ]
     },
     "execution_count": 291,
     "metadata": {},
     "output_type": "execute_result"
    }
   ],
   "source": [
    "# Label Encoder for Countries \n",
    "\n",
    "enc = LabelEncoder()\n",
    "data_clean['Country'] = enc.fit_transform(data_clean['Country/Region'])\n",
    "data_clean"
   ]
  },
  {
   "cell_type": "code",
   "execution_count": 295,
   "metadata": {},
   "outputs": [],
   "source": [
    "# Dropping Country/Region and Date\n",
    "\n",
    "#data_clean.drop(['Country/Region', 'Date'], axis = 1, inplace=True)"
   ]
  },
  {
   "cell_type": "markdown",
   "metadata": {},
   "source": [
    "### Splitting Back into Train and Test"
   ]
  },
  {
   "cell_type": "code",
   "execution_count": 297,
   "metadata": {},
   "outputs": [],
   "source": [
    "data_train_clean = data_clean[:17324]"
   ]
  },
  {
   "cell_type": "code",
   "execution_count": 312,
   "metadata": {},
   "outputs": [],
   "source": [
    "data_test_clean = data_clean[17324:]"
   ]
  },
  {
   "cell_type": "markdown",
   "metadata": {},
   "source": [
    "### Adding Back Confirmed Cases and Fatalities\n",
    "Using original df_train, check shape is same, head, tail have same values. ORDER NEEDS TO BE SAME."
   ]
  },
  {
   "cell_type": "code",
   "execution_count": 308,
   "metadata": {},
   "outputs": [
    {
     "data": {
      "text/html": [
       "<div>\n",
       "<style scoped>\n",
       "    .dataframe tbody tr th:only-of-type {\n",
       "        vertical-align: middle;\n",
       "    }\n",
       "\n",
       "    .dataframe tbody tr th {\n",
       "        vertical-align: top;\n",
       "    }\n",
       "\n",
       "    .dataframe thead th {\n",
       "        text-align: right;\n",
       "    }\n",
       "</style>\n",
       "<table border=\"1\" class=\"dataframe\">\n",
       "  <thead>\n",
       "    <tr style=\"text-align: right;\">\n",
       "      <th></th>\n",
       "      <th>ConfirmedCases</th>\n",
       "      <th>Fatalities</th>\n",
       "    </tr>\n",
       "  </thead>\n",
       "  <tbody>\n",
       "    <tr>\n",
       "      <th>0</th>\n",
       "      <td>0.0</td>\n",
       "      <td>0.0</td>\n",
       "    </tr>\n",
       "    <tr>\n",
       "      <th>1</th>\n",
       "      <td>0.0</td>\n",
       "      <td>0.0</td>\n",
       "    </tr>\n",
       "    <tr>\n",
       "      <th>2</th>\n",
       "      <td>0.0</td>\n",
       "      <td>0.0</td>\n",
       "    </tr>\n",
       "    <tr>\n",
       "      <th>3</th>\n",
       "      <td>0.0</td>\n",
       "      <td>0.0</td>\n",
       "    </tr>\n",
       "    <tr>\n",
       "      <th>4</th>\n",
       "      <td>0.0</td>\n",
       "      <td>0.0</td>\n",
       "    </tr>\n",
       "    <tr>\n",
       "      <th>...</th>\n",
       "      <td>...</td>\n",
       "      <td>...</td>\n",
       "    </tr>\n",
       "    <tr>\n",
       "      <th>17319</th>\n",
       "      <td>2.0</td>\n",
       "      <td>0.0</td>\n",
       "    </tr>\n",
       "    <tr>\n",
       "      <th>17320</th>\n",
       "      <td>2.0</td>\n",
       "      <td>0.0</td>\n",
       "    </tr>\n",
       "    <tr>\n",
       "      <th>17321</th>\n",
       "      <td>2.0</td>\n",
       "      <td>0.0</td>\n",
       "    </tr>\n",
       "    <tr>\n",
       "      <th>17322</th>\n",
       "      <td>2.0</td>\n",
       "      <td>0.0</td>\n",
       "    </tr>\n",
       "    <tr>\n",
       "      <th>17323</th>\n",
       "      <td>3.0</td>\n",
       "      <td>0.0</td>\n",
       "    </tr>\n",
       "  </tbody>\n",
       "</table>\n",
       "<p>17324 rows × 2 columns</p>\n",
       "</div>"
      ],
      "text/plain": [
       "       ConfirmedCases  Fatalities\n",
       "0                 0.0         0.0\n",
       "1                 0.0         0.0\n",
       "2                 0.0         0.0\n",
       "3                 0.0         0.0\n",
       "4                 0.0         0.0\n",
       "...               ...         ...\n",
       "17319             2.0         0.0\n",
       "17320             2.0         0.0\n",
       "17321             2.0         0.0\n",
       "17322             2.0         0.0\n",
       "17323             3.0         0.0\n",
       "\n",
       "[17324 rows x 2 columns]"
      ]
     },
     "execution_count": 308,
     "metadata": {},
     "output_type": "execute_result"
    }
   ],
   "source": [
    "df_train[['ConfirmedCases', 'Fatalities']]"
   ]
  },
  {
   "cell_type": "code",
   "execution_count": 306,
   "metadata": {},
   "outputs": [
    {
     "data": {
      "text/html": [
       "<div>\n",
       "<style scoped>\n",
       "    .dataframe tbody tr th:only-of-type {\n",
       "        vertical-align: middle;\n",
       "    }\n",
       "\n",
       "    .dataframe tbody tr th {\n",
       "        vertical-align: top;\n",
       "    }\n",
       "\n",
       "    .dataframe thead th {\n",
       "        text-align: right;\n",
       "    }\n",
       "</style>\n",
       "<table border=\"1\" class=\"dataframe\">\n",
       "  <thead>\n",
       "    <tr style=\"text-align: right;\">\n",
       "      <th></th>\n",
       "      <th>Lat</th>\n",
       "      <th>Long</th>\n",
       "      <th>Month</th>\n",
       "      <th>Day</th>\n",
       "      <th>Day_Week</th>\n",
       "      <th>Country</th>\n",
       "    </tr>\n",
       "  </thead>\n",
       "  <tbody>\n",
       "    <tr>\n",
       "      <th>17319</th>\n",
       "      <td>-15.4167</td>\n",
       "      <td>28.2833</td>\n",
       "      <td>3</td>\n",
       "      <td>18</td>\n",
       "      <td>2</td>\n",
       "      <td>162</td>\n",
       "    </tr>\n",
       "    <tr>\n",
       "      <th>17320</th>\n",
       "      <td>-15.4167</td>\n",
       "      <td>28.2833</td>\n",
       "      <td>3</td>\n",
       "      <td>19</td>\n",
       "      <td>3</td>\n",
       "      <td>162</td>\n",
       "    </tr>\n",
       "    <tr>\n",
       "      <th>17321</th>\n",
       "      <td>-15.4167</td>\n",
       "      <td>28.2833</td>\n",
       "      <td>3</td>\n",
       "      <td>20</td>\n",
       "      <td>4</td>\n",
       "      <td>162</td>\n",
       "    </tr>\n",
       "    <tr>\n",
       "      <th>17322</th>\n",
       "      <td>-15.4167</td>\n",
       "      <td>28.2833</td>\n",
       "      <td>3</td>\n",
       "      <td>21</td>\n",
       "      <td>5</td>\n",
       "      <td>162</td>\n",
       "    </tr>\n",
       "    <tr>\n",
       "      <th>17323</th>\n",
       "      <td>-15.4167</td>\n",
       "      <td>28.2833</td>\n",
       "      <td>3</td>\n",
       "      <td>22</td>\n",
       "      <td>6</td>\n",
       "      <td>162</td>\n",
       "    </tr>\n",
       "  </tbody>\n",
       "</table>\n",
       "</div>"
      ],
      "text/plain": [
       "           Lat     Long  Month  Day  Day_Week  Country\n",
       "17319 -15.4167  28.2833      3   18         2      162\n",
       "17320 -15.4167  28.2833      3   19         3      162\n",
       "17321 -15.4167  28.2833      3   20         4      162\n",
       "17322 -15.4167  28.2833      3   21         5      162\n",
       "17323 -15.4167  28.2833      3   22         6      162"
      ]
     },
     "execution_count": 306,
     "metadata": {},
     "output_type": "execute_result"
    }
   ],
   "source": [
    "data_train_clean.tail(5)"
   ]
  },
  {
   "cell_type": "code",
   "execution_count": 314,
   "metadata": {},
   "outputs": [
    {
     "name": "stderr",
     "output_type": "stream",
     "text": [
      "/Library/Frameworks/Python.framework/Versions/3.6/lib/python3.6/site-packages/pandas/core/frame.py:2963: SettingWithCopyWarning: \n",
      "A value is trying to be set on a copy of a slice from a DataFrame.\n",
      "Try using .loc[row_indexer,col_indexer] = value instead\n",
      "\n",
      "See the caveats in the documentation: https://pandas.pydata.org/pandas-docs/stable/user_guide/indexing.html#returning-a-view-versus-a-copy\n",
      "  self[k1] = value[k2]\n"
     ]
    }
   ],
   "source": [
    "data_train_clean[['ConfirmedCases', 'Fatalities']] = df_train[['ConfirmedCases', 'Fatalities']]"
   ]
  },
  {
   "cell_type": "markdown",
   "metadata": {},
   "source": [
    "### Creating Features and Two Labels"
   ]
  },
  {
   "cell_type": "code",
   "execution_count": 315,
   "metadata": {},
   "outputs": [],
   "source": [
    "x = data_train_clean[['Lat', 'Long', 'Month', 'Day', 'Day_Week', 'Country']]\n",
    "y_case = data_train_clean[['ConfirmedCases']]\n",
    "y_fatal = data_train_clean[['Fatalities']]"
   ]
  },
  {
   "cell_type": "markdown",
   "metadata": {},
   "source": [
    "### Train-Test Split - Confirmed Cases"
   ]
  },
  {
   "cell_type": "code",
   "execution_count": 338,
   "metadata": {},
   "outputs": [],
   "source": [
    "from sklearn.model_selection import train_test_split\n",
    "\n",
    "x_train, x_test, y_train, y_test = train_test_split(x, y_case, test_size = 0.3, random_state = 42)"
   ]
  },
  {
   "cell_type": "markdown",
   "metadata": {},
   "source": [
    "### Train-Test Split - Fatalities"
   ]
  },
  {
   "cell_type": "code",
   "execution_count": 351,
   "metadata": {},
   "outputs": [],
   "source": [
    "from sklearn.model_selection import train_test_split\n",
    "\n",
    "x_train_fatal, x_test_fatal, y_train_fatal, y_test_fatal = train_test_split(x, y_fatal, test_size = 0.3, random_state = 42)"
   ]
  },
  {
   "cell_type": "markdown",
   "metadata": {},
   "source": [
    "# Modelling\n",
    "## <b>1. Linear Regression (Baseline Model) - No way Data Is Linear<br></b>\n",
    "<p> 1.5% Train Accuracy for Confirmed Cases <br>\n",
    "    1% Train Accuracy for Fatalities\n",
    "    "
   ]
  },
  {
   "cell_type": "markdown",
   "metadata": {},
   "source": [
    "#### For Confirmed Cases"
   ]
  },
  {
   "cell_type": "code",
   "execution_count": 339,
   "metadata": {},
   "outputs": [
    {
     "data": {
      "text/plain": [
       "0.015796285262613785"
      ]
     },
     "execution_count": 339,
     "metadata": {},
     "output_type": "execute_result"
    }
   ],
   "source": [
    "from sklearn.linear_model import LinearRegression\n",
    "from sklearn.metrics import mean_squared_error\n",
    "clf = LinearRegression()\n",
    "\n",
    "clf.fit(x_train, y_train)\n",
    "\n",
    "# R^2 Score\n",
    "clf.score(x_train, y_train)"
   ]
  },
  {
   "cell_type": "code",
   "execution_count": 342,
   "metadata": {},
   "outputs": [
    {
     "name": "stdout",
     "output_type": "stream",
     "text": [
      "10484166.256193016\n"
     ]
    }
   ],
   "source": [
    "# R^2 on test set \n",
    "\n",
    "clf.score(x_test, y_test)\n",
    "\n",
    "# MSE on test set\n",
    "\n",
    "y_pred_case = clf.predict(x_test)\n",
    "print(mean_squared_error(y_test, y_pred_case))"
   ]
  },
  {
   "cell_type": "code",
   "execution_count": 366,
   "metadata": {},
   "outputs": [
    {
     "data": {
      "text/plain": [
       "(12212, 1)"
      ]
     },
     "execution_count": 366,
     "metadata": {},
     "output_type": "execute_result"
    }
   ],
   "source": [
    "# Training for entire dataset and then Predicting Values, many negative\n",
    "clf.fit(x, y_case)\n",
    "y_predicted_cases_test = clf.predict(data_test_clean)\n",
    "y_predicted_cases_test.shape"
   ]
  },
  {
   "cell_type": "markdown",
   "metadata": {},
   "source": [
    "#### For Fatalities"
   ]
  },
  {
   "cell_type": "code",
   "execution_count": 362,
   "metadata": {},
   "outputs": [
    {
     "data": {
      "text/plain": [
       "0.010088492247989467"
      ]
     },
     "execution_count": 362,
     "metadata": {},
     "output_type": "execute_result"
    }
   ],
   "source": [
    "clf.fit(x_train_fatal, y_train_fatal)\n",
    "clf.score(x_train_fatal, y_train_fatal)"
   ]
  },
  {
   "cell_type": "code",
   "execution_count": 363,
   "metadata": {},
   "outputs": [
    {
     "name": "stdout",
     "output_type": "stream",
     "text": [
      "10484166.256193016\n"
     ]
    }
   ],
   "source": [
    "# R2 for test \n",
    "clf.score(x_test_fatal, y_test_fatal)\n",
    "# MSE for test \n",
    "y_pred_fatal = clf.predict(x_test_fatal)\n",
    "print(mean_squared_error(y_test, y_pred_case))"
   ]
  },
  {
   "cell_type": "code",
   "execution_count": 365,
   "metadata": {},
   "outputs": [
    {
     "data": {
      "text/plain": [
       "(12212, 1)"
      ]
     },
     "execution_count": 365,
     "metadata": {},
     "output_type": "execute_result"
    }
   ],
   "source": [
    "# Training on entire set and Predicting Values \n",
    "\n",
    "clf.fit(x, y_fatal)\n",
    "y_predicted_fatal_test = clf.predict(data_test_clean)\n",
    "y_predicted_fatal_test.shape"
   ]
  },
  {
   "cell_type": "markdown",
   "metadata": {},
   "source": [
    "#### Saving Predictions "
   ]
  },
  {
   "cell_type": "code",
   "execution_count": 368,
   "metadata": {},
   "outputs": [],
   "source": [
    "# Read Predictions CSV\n",
    "\n",
    "submission = pd.read_csv(path_sbumit)"
   ]
  },
  {
   "cell_type": "code",
   "execution_count": 374,
   "metadata": {},
   "outputs": [
    {
     "data": {
      "text/html": [
       "<div>\n",
       "<style scoped>\n",
       "    .dataframe tbody tr th:only-of-type {\n",
       "        vertical-align: middle;\n",
       "    }\n",
       "\n",
       "    .dataframe tbody tr th {\n",
       "        vertical-align: top;\n",
       "    }\n",
       "\n",
       "    .dataframe thead th {\n",
       "        text-align: right;\n",
       "    }\n",
       "</style>\n",
       "<table border=\"1\" class=\"dataframe\">\n",
       "  <thead>\n",
       "    <tr style=\"text-align: right;\">\n",
       "      <th></th>\n",
       "      <th>ForecastId</th>\n",
       "      <th>ConfirmedCases</th>\n",
       "      <th>Fatalities</th>\n",
       "    </tr>\n",
       "  </thead>\n",
       "  <tbody>\n",
       "    <tr>\n",
       "      <th>0</th>\n",
       "      <td>1</td>\n",
       "      <td>749.637979</td>\n",
       "      <td>27.410700</td>\n",
       "    </tr>\n",
       "    <tr>\n",
       "      <th>1</th>\n",
       "      <td>2</td>\n",
       "      <td>877.735274</td>\n",
       "      <td>32.614637</td>\n",
       "    </tr>\n",
       "    <tr>\n",
       "      <th>2</th>\n",
       "      <td>3</td>\n",
       "      <td>1005.832570</td>\n",
       "      <td>37.818573</td>\n",
       "    </tr>\n",
       "    <tr>\n",
       "      <th>3</th>\n",
       "      <td>4</td>\n",
       "      <td>1133.929866</td>\n",
       "      <td>43.022510</td>\n",
       "    </tr>\n",
       "    <tr>\n",
       "      <th>4</th>\n",
       "      <td>5</td>\n",
       "      <td>409.054388</td>\n",
       "      <td>13.913183</td>\n",
       "    </tr>\n",
       "  </tbody>\n",
       "</table>\n",
       "</div>"
      ],
      "text/plain": [
       "   ForecastId  ConfirmedCases  Fatalities\n",
       "0           1      749.637979   27.410700\n",
       "1           2      877.735274   32.614637\n",
       "2           3     1005.832570   37.818573\n",
       "3           4     1133.929866   43.022510\n",
       "4           5      409.054388   13.913183"
      ]
     },
     "execution_count": 374,
     "metadata": {},
     "output_type": "execute_result"
    }
   ],
   "source": [
    "submission['ConfirmedCases'] = y_predicted_cases_test\n",
    "submission['Fatalities'] = y_predicted_fatal_test\n",
    "submission.head()"
   ]
  },
  {
   "cell_type": "code",
   "execution_count": 375,
   "metadata": {},
   "outputs": [],
   "source": [
    "submission.to_csv('submission_base_linear_reg.csv', index = False)"
   ]
  }
 ],
 "metadata": {
  "kernelspec": {
   "display_name": "Python 3",
   "language": "python",
   "name": "python3"
  },
  "language_info": {
   "codemirror_mode": {
    "name": "ipython",
    "version": 3
   },
   "file_extension": ".py",
   "mimetype": "text/x-python",
   "name": "python",
   "nbconvert_exporter": "python",
   "pygments_lexer": "ipython3",
   "version": "3.6.4"
  }
 },
 "nbformat": 4,
 "nbformat_minor": 2
}
