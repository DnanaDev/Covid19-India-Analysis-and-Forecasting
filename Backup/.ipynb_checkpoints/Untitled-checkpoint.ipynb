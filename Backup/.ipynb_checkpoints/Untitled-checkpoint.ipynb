{
 "cells": [
  {
   "cell_type": "markdown",
   "metadata": {},
   "source": [
    "# Covid 19 : India Analysis and Forecasting\n",
    "<p>This is an end-end data science project that fetches the daily updated data released about the spread of the virus, and performs some exploratory data analysis and visualisations on the data. \n",
    "    It calculates and visualizes the growth factor, growth ratio of the virus and draws insights from it. The further spread of the virus is modelled using a polynomial regression.</p>\n",
    "1. Analysis and Visualization [Notebook.](COVID19_India_Analysis_Forecasting.ipynb)\n",
    "2. Data Scraping [Script.](india_API_data/Covid19_india_org_api.py)\n",
    "3. Kaggle Forecasting Week 1 Challenge [Notebook.](https://www.kaggle.com/andynath/covid-19-beginner-eda-random-forest-xgboost)<br>\n",
    "![Growth Factor](Graphs/India_Growth_Factor.png)\n",
    "\n",
    "## Data Sources\n",
    "1. Daily Case Statistics: [covid19india.org API.](https://github.com/covid19india/api)\n",
    "2. Daily ICMR Testing Samples Data: [Data Meet.](https://github.com/datameet/covid19)\n"
   ]
  }
 ],
 "metadata": {
  "kernelspec": {
   "display_name": "Python 3",
   "language": "python",
   "name": "python3"
  },
  "language_info": {
   "codemirror_mode": {
    "name": "ipython",
    "version": 3
   },
   "file_extension": ".py",
   "mimetype": "text/x-python",
   "name": "python",
   "nbconvert_exporter": "python",
   "pygments_lexer": "ipython3",
   "version": "3.6.4"
  }
 },
 "nbformat": 4,
 "nbformat_minor": 2
}
