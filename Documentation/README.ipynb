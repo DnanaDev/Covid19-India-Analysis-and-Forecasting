{
 "cells": [
  {
   "cell_type": "markdown",
   "metadata": {},
   "source": [
    "# Data Pipeline For COVID-19 - India Analysis\n",
    "_**Documentation for data pipeline created for the mentorskool community project COVID-19**_\n",
    "<p>\n",
    "The project provides an automated ETL pipeline that collects data related to the Covid outbreak from APIs, web sources etc. and provides analysts access to consistent, clean and up to date data. The Pipeline is hosted on the <b>Google Cloud Platform</b> and has the following components: </p>\n",
    "\n",
    "![Pipeline](Documentation/Covid_19_Data_Pipeline.png)"
   ]
  },
  {
   "cell_type": "markdown",
   "metadata": {},
   "source": [
    "### 1. Raw Data Ingestion Functions\n",
    "1. Cloud Function - [fetch_raw_covid_api_data](Data_Pipeline/GCP_Cloud_function.py)\n",
    "2. Offline Function - [Script](Data_Pipeline/Data_Ingestion.py) - [Documentation](Documentation/Ingestion.md)\n",
    "\n",
    "### 2. Clean SQL Ingestion Functions\n",
    "1. Cloud Function - [Cloud_function_Ingestion_SQL](Data_Pipeline/Cloud_function_Ingestion_SQL.py)\n",
    "2. Functions for Creating Local DB (Used pg_dump to create CloudSQL Instance), Connecting to CloudSQL , Offline Clean Data Ingestion - [Well documented notebook](Data_Pipeline/Data_Ingestion.ipynb)\n",
    "3. Current DB [ERD](Documentation/DB_ERD.png)"
   ]
  }
 ],
 "metadata": {
  "jupytext": {
   "formats": "ipynb,md"
  },
  "kernelspec": {
   "display_name": "Python 3",
   "language": "python",
   "name": "python3"
  },
  "language_info": {
   "codemirror_mode": {
    "name": "ipython",
    "version": 3
   },
   "file_extension": ".py",
   "mimetype": "text/x-python",
   "name": "python",
   "nbconvert_exporter": "python",
   "pygments_lexer": "ipython3",
   "version": "3.6.4"
  }
 },
 "nbformat": 4,
 "nbformat_minor": 2
}
