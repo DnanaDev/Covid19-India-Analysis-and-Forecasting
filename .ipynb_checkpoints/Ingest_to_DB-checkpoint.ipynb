{
 "cells": [
  {
   "cell_type": "code",
   "execution_count": null,
   "metadata": {},
   "outputs": [],
   "source": [
    "\"\"\"\n",
    "Helper Functions to create and manage SQLITE Database for Covid19 Project. \n",
    "data_to_df(table_name, fetch_new = False) to fetch data from a table in the form of a Pandas DF.\n",
    "\n",
    "Dependencies : india_API_data/Covid19_india_org_api.py for functions that fetch data from API.\n",
    "\n",
    "References :\n",
    "https://stackoverflow.com/questions/14431646/how-to-write-pandas-dataframe-to-sqlite-with-index\n",
    "https://stackoverflow.com/questions/39407254/how-to-set-the-primary-key-when-writing-a-pandas-dataframe-to-a-sqlite-database\n",
    "\"\"\""
   ]
  },
  {
   "cell_type": "code",
   "execution_count": 1,
   "metadata": {},
   "outputs": [],
   "source": [
    "from india_API_data.Covid19_india_org_api import get_test_dataframe, make_dataframe\n",
    "import pandas as pd\n",
    "import sqlite3\n",
    "from sqlite3 import OperationalError"
   ]
  },
  {
   "cell_type": "code",
   "execution_count": 26,
   "metadata": {},
   "outputs": [],
   "source": [
    "def fetch_data():\n",
    "    \"\"\"Fetches the Latest Stats and Testing Data and returns a clean DF\n",
    "    ready to be sent to the DB.\n",
    "    \"\"\"\n",
    "    # Fetching the Updated Data\n",
    "    cases = make_dataframe()\n",
    "    tests = get_test_dataframe()\n",
    "    # Removing duplicate indexes and Joining the dataframes \n",
    "    tests = tests.loc[~tests.index.duplicated(keep='last')]\n",
    "    india_combined_samples = tests.join(cases, how = 'right')\n",
    "    india_combined_samples.rename({'Testing Samples': 'TestingSamples'}, axis = 1, inplace=True)\n",
    "    india_combined_samples.reset_index(inplace=True)\n",
    "    india_combined_samples.rename({'index' : 'date'}, axis =1, inplace=True)\n",
    "    return india_combined_samples"
   ]
  },
  {
   "cell_type": "code",
   "execution_count": 20,
   "metadata": {},
   "outputs": [],
   "source": [
    "def create_table(cursor, table_name):\n",
    "    \"\"\" Requires cursor to be passed. Creates a table with the \n",
    "    neccessary columns for the covid data if it doesn't exist. \n",
    "    \"\"\"\n",
    "    try:\n",
    "        cursor.execute(f\"\"\" CREATE TABLE {table_name} (\n",
    "        date DateTime PRIMARY KEY,\n",
    "        TestingSamples integer,\n",
    "        DailyConfirmed integer,\n",
    "        DailyDeceased integer, \n",
    "        DailyRecovered integer,\n",
    "        TotalConfirmed integer,\n",
    "        TotalDeceased integer,\n",
    "        TotalRecovered integer)\"\"\")\n",
    "        \n",
    "        cursor.execute(f\"SELECT name FROM PRAGMA_TABLE_INFO({table_name})\")\n",
    "        print(f'Created {table_name} with columns : {cursor.fetchall()}')\n",
    "    \n",
    "    except OperationalError :\n",
    "        cursor.execute(f\"\"\"SELECT * FROM {table_name}\"\"\")\n",
    "        num_records = len(cursor.fetchall())\n",
    "        print(f'Table Exists With {num_records} Records')        "
   ]
  },
  {
   "cell_type": "code",
   "execution_count": 4,
   "metadata": {},
   "outputs": [],
   "source": [
    "def add_data_table(conn, tablename, df):\n",
    "    \"\"\"Appends New Covid Data to table if it exists \n",
    "    else Creates a new table and appends all data.\n",
    "    Takes in connection to DB.\n",
    "    \"\"\"\n",
    "    try:\n",
    "        cursor = conn.cursor()\n",
    "        cursor.execute(f\"\"\"SELECT * FROM {tablename}\"\"\")\n",
    "    \n",
    "    except OperationalError:\n",
    "        create_covid_table(cursor, tablename)\n",
    "        cursor.execute(f\"\"\"SELECT * FROM {tablename}\"\"\")\n",
    "    finally:\n",
    "        num_records = len(cursor.fetchall())\n",
    "        df.iloc[num_records:].to_sql(tablename, conn, if_exists='append', index=False)\n",
    "        print(f'Added {len(df) - num_records} Records')"
   ]
  },
  {
   "cell_type": "code",
   "execution_count": 29,
   "metadata": {},
   "outputs": [],
   "source": [
    "def data_to_df(table_name, fetch_new = False):\n",
    "    \"\"\" Returns the complete covid data from the table as a dataframe.\n",
    "    If fetch_new = True, First fetches the data from API, updates Database and then returns DF.\n",
    "    If table doesn'terxist, creates one. Must be used with fetch_new = True to get data into new table.\n",
    "    \"\"\"\n",
    "    # Create/load DB\n",
    "    database = 'Data/covid_data.db'\n",
    "    # Open connection to DB\n",
    "    conn = sqlite3.connect(database)\n",
    "    # create client/cursor\n",
    "    client = conn.cursor()\n",
    "    \n",
    "    # if new data requested\n",
    "    if fetch_new:\n",
    "        # Fetch the data\n",
    "        india_data = fetch_data()\n",
    "        # Create Table Named Covid\n",
    "        create_table(client, table_name)\n",
    "        # Add data/Append New Data to table \n",
    "        add_data_table(conn, table_name, india_data)\n",
    "   \n",
    "    # fetch data from table \n",
    "    return pd.read_sql_query(f\"SELECT * from {table_name}\", conn)\n",
    "    # Close connection \n",
    "    conn.close()"
   ]
  },
  {
   "cell_type": "code",
   "execution_count": 31,
   "metadata": {},
   "outputs": [
    {
     "name": "stdout",
     "output_type": "stream",
     "text": [
      "Table Exists With 145 Records\n",
      "Added 0 Records\n"
     ]
    }
   ],
   "source": [
    "if __name__ == '__main__':\n",
    "    \n",
    "    # Create/load DB\n",
    "    database = 'Data/covid_data.db'\n",
    "    \n",
    "    # Open connection to DB\n",
    "    conn = sqlite3.connect(database)\n",
    "    # Create Client or Cursor\n",
    "    client = conn.cursor()\n",
    "    # Fetch the data\n",
    "    india_data = fetch_data()\n",
    "    \n",
    "    # Create Table Named Covid\n",
    "    create_table(client, 'covid')\n",
    "    \n",
    "    # Add data/Append New Data to table \n",
    "    add_data_table(conn, 'covid', india_data)\n",
    "    \n",
    "    # Close connection \n",
    "    conn.close()"
   ]
  }
 ],
 "metadata": {
  "kernelspec": {
   "display_name": "Python 3",
   "language": "python",
   "name": "python3"
  },
  "language_info": {
   "codemirror_mode": {
    "name": "ipython",
    "version": 3
   },
   "file_extension": ".py",
   "mimetype": "text/x-python",
   "name": "python",
   "nbconvert_exporter": "python",
   "pygments_lexer": "ipython3",
   "version": "3.6.4"
  }
 },
 "nbformat": 4,
 "nbformat_minor": 2
}
